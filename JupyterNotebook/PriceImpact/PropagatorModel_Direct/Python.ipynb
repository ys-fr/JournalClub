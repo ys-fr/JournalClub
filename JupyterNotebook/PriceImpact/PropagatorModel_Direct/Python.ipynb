{
 "cells": [
  {
   "cell_type": "code",
   "execution_count": 1,
   "metadata": {},
   "outputs": [],
   "source": [
    "import pandas as pd\n",
    "import os\n",
    "import numpy as np\n",
    "import matplotlib.pyplot as plt\n",
    "import seaborn as sns\n",
    "from scipy import linalg"
   ]
  },
  {
   "cell_type": "code",
   "execution_count": 2,
   "metadata": {},
   "outputs": [],
   "source": [
    "def binning(x,y,nbin=10,eq = True):\n",
    "    step = (np.max(x)-np.min(x))/(nbin)\n",
    "    X = []\n",
    "    Y = []\n",
    "    Yerr = []\n",
    "    tmpY = []\n",
    "    start = np.min(x)+step\n",
    "    if eq:\n",
    "        for i in range(len(x)):\n",
    "            while x[i] > start:\n",
    "                X.append(start-step/2)\n",
    "                Y.append(np.mean(tmpY))\n",
    "                #Xerr.append(np.std(tmpX,ddof=1) /np.sqrt(len(tmpX)) )\n",
    "                Yerr.append(np.std(tmpY,ddof=1) /np.sqrt(len(tmpY)) )\n",
    "                start += step\n",
    "                tmpY=[]\n",
    "                pass\n",
    "            tmpY.append(y[i])\n",
    "            pass\n",
    "        if len(tmpY)!=0:\n",
    "            X.append(start-step/2)\n",
    "            Y.append(np.mean(tmpY))\n",
    "            Yerr.append(np.std(tmpY,ddof=1) /np.sqrt(len(tmpY)) )\n",
    "        return X,Y,Yerr\n",
    "        pass\n",
    "    else:\n",
    "        tmpX = []\n",
    "        Xerr = []\n",
    "        for i in range(len(x)):\n",
    "            while x[i] > start:\n",
    "                X.append(np.mean(tmpX))\n",
    "                Y.append(np.mean(tmpY))\n",
    "                Xerr.append(np.std(tmpX,ddof=1) /np.sqrt(len(tmpX)) )\n",
    "                Yerr.append(np.std(tmpY,ddof=1) /np.sqrt(len(tmpY)) )\n",
    "                start += step\n",
    "                tmpX=[]\n",
    "                tmpY=[]\n",
    "                pass\n",
    "            tmpX.append(x[i])\n",
    "            tmpY.append(y[i])\n",
    "            pass\n",
    "        if len(tmpY)!=0:\n",
    "            X.append(np.mean(tmpX))\n",
    "            Y.append(np.mean(tmpY))\n",
    "            Xerr.append(np.std(tmpX,ddof=1) /np.sqrt(len(tmpX)) )\n",
    "            Yerr.append(np.std(tmpY,ddof=1) /np.sqrt(len(tmpY)) )\n",
    "        return X, Y, Yerr"
   ]
  },
  {
   "cell_type": "code",
   "execution_count": 3,
   "metadata": {},
   "outputs": [],
   "source": [
    "def PreProcessing(t,price):\n",
    "    T = np.zeros(len(t))\n",
    "    Price = np.zeros(len(t))\n",
    "    prev = t[0]\n",
    "    n = 0\n",
    "    for i in range(len(t)):\n",
    "        n += (prev != t[i])\n",
    "        T[n] = t[i]\n",
    "        Price[n] = price[i]\n",
    "        prev = t[i]\n",
    "        pass\n",
    "    return T[:n+1],Price[:n+1]"
   ]
  },
  {
   "cell_type": "code",
   "execution_count": 4,
   "metadata": {},
   "outputs": [],
   "source": [
    "INTC_LOB   = np.sort([\"../../Data/INTC/\"+i for i in os.listdir(\"../../Data/INTC\") if i[-8]==\"k\"])\n",
    "TSLA_LOB   = np.sort([\"../../Data/TSLA/\"+i for i in os.listdir(\"../../Data/TSLA\") if i[-8]==\"k\"])\n",
    "INTC_order = np.sort([\"../../Data/INTC/\"+i for i in os.listdir(\"../../Data/INTC\") if i[-8]!=\"k\"])\n",
    "TSLA_order = np.sort([\"../../Data/TSLA/\"+i for i in os.listdir(\"../../Data/TSLA\") if i[-8]!=\"k\"])"
   ]
  },
  {
   "cell_type": "markdown",
   "metadata": {},
   "source": [
    "## 2.2 Price flactuation and diffusion\n",
    "``Here, the price $p_n$ is defined as the mid-point before n-th trade: $p_n:=m_{m^{-}}$''"
   ]
  },
  {
   "cell_type": "code",
   "execution_count": 5,
   "metadata": {},
   "outputs": [],
   "source": [
    "def GetPriceBeforeTransaction(time, record, midprice):\n",
    "    Mid = np.zeros(time.shape[0])\n",
    "    prev = time[0]\n",
    "    n = 0\n",
    "    Mid[n] = prev\n",
    "    for i,z,w in zip(midprice,record,time):\n",
    "        n +=  ((z==4 or z==5) and prev != w)\n",
    "        Mid[n] = i\n",
    "        prev = w\n",
    "        pass\n",
    "    return Mid[:n]\n",
    "    pass\n"
   ]
  },
  {
   "cell_type": "code",
   "execution_count": 9,
   "metadata": {},
   "outputs": [],
   "source": [
    "TSLAPrice = []\n",
    "for i,z in zip(TSLA_order,TSLA_LOB):\n",
    "    data = pd.read_csv(i,header=None)[[0,1]]\n",
    "    lob = pd.read_csv(z,header=None)[[0,2]]\n",
    "    data[2] = (lob[0]+lob[2])/2\n",
    "    a=GetPriceBeforeTransaction(data[0].values,data[1].values, data[2].values)\n",
    "    TSLAPrice.extend(a.tolist().copy())\n",
    "    pass\n",
    "TSLAPrice = np.array(TSLAPrice)/10000\n"
   ]
  },
  {
   "cell_type": "markdown",
   "metadata": {},
   "source": [
    "## Response function and market impact\n",
    "Response function of transaction can be defined as\n",
    "$$\n",
    "R(l) := \\left\\langle \\left( p(l+t) -p(t)\\right)\\epsilon(t) \\right\\rangle\n",
    "$$"
   ]
  },
  {
   "cell_type": "code",
   "execution_count": 10,
   "metadata": {},
   "outputs": [],
   "source": [
    "def ResponseFunction(time, record, midprice, sign):\n",
    "    Mid = np.zeros(time.shape[0])\n",
    "    Sign = np.zeros(time.shape[0])\n",
    "    prev = 0\n",
    "    n = 0\n",
    "    Mid[n] = midprice[n]\n",
    "    for i,z,w,s in zip(midprice,record,time,sign):\n",
    "        Sign[n] += s*((z==4 or z==5) and prev != w)\n",
    "        n +=  ((z==4 or z==5) and prev != w)\n",
    "        Mid[n] = i\n",
    "        prev = w\n",
    "        pass\n",
    "    return Mid[:n],-Sign[:n]\n",
    "    pass"
   ]
  },
  {
   "cell_type": "code",
   "execution_count": 11,
   "metadata": {},
   "outputs": [],
   "source": [
    "TSLAPrice = []\n",
    "TSLASign = []\n",
    "for i,z in zip(TSLA_order,TSLA_LOB):\n",
    "    data = pd.read_csv(i,header=None)[[0,1,5]]\n",
    "    lob = pd.read_csv(z,header=None)[[0,2]]\n",
    "    data[2] = (lob[0]+lob[2])/2\n",
    "    a,b=ResponseFunction(data[0].values,data[1].values, data[2].values,data[5].values)\n",
    "    TSLAPrice.extend(a.tolist().copy())\n",
    "    TSLASign.extend(b.tolist().copy())\n",
    "#    break\n",
    "    pass\n",
    "TSLAPrice = np.array(TSLAPrice)/10000\n",
    "TSLASign = np.array(TSLASign)"
   ]
  },
  {
   "cell_type": "code",
   "execution_count": 12,
   "metadata": {},
   "outputs": [],
   "source": [
    "Response = [np.mean( (TSLAPrice[i:]-TSLAPrice[:-i])*TSLASign[:-i] ) for i in range(1,10002)]\n",
    "Response = np.array(Response)\n",
    "t = np.arange(1,10002,1)"
   ]
  },
  {
   "cell_type": "markdown",
   "metadata": {},
   "source": [
    "### numerical calculus of the propagator function\n",
    "\n",
    "$$\n",
    "S(l):=R(l+1)-R(l),K(l):=G(l+1)-G(l)\\\\\n",
    "S_l:= C_{l,l} K_l\n",
    "$$\n"
   ]
  },
  {
   "cell_type": "code",
   "execution_count": 15,
   "metadata": {},
   "outputs": [],
   "source": [
    "def MakeCorrMat(C):\n",
    "    result = np.ones( (len(C),len(C) ))\n",
    "    for i in range(len(C)):\n",
    "        for j in range(i,len(C)):\n",
    "            result[i,j] = C[abs(i-j)]\n",
    "            result[j,i] = C[abs(i-j)]\n",
    "            pass\n",
    "        pass\n",
    "    return result"
   ]
  },
  {
   "cell_type": "code",
   "execution_count": 19,
   "metadata": {},
   "outputs": [],
   "source": [
    "Response = [np.mean( (TSLAPrice[i:]-TSLAPrice[:-i])*TSLASign[:-i] ) for i in range(1,10002)]\n",
    "Response = np.array(Response)\n",
    "S = np.diff(Response)\n",
    "C = np.ones(len(S))\n",
    "mu = np.mean(TSLASign)**2\n",
    "for i in range(1,len(S),1):\n",
    "    C[i] = np.mean(TSLASign[i:]*TSLASign[:-i])-mu\n",
    "    pass\n",
    "Cov = MakeCorrMat(C)"
   ]
  },
  {
   "cell_type": "code",
   "execution_count": 20,
   "metadata": {},
   "outputs": [],
   "source": [
    "K = linalg.solve(Cov, S)\n",
    "G = np.zeros(len(K)+1)\n",
    "G[0] = Response[0]\n",
    "for i in range(1,len(K)+1,1):\n",
    "    G[i] = K[i-1] + G[i-1]"
   ]
  },
  {
   "cell_type": "code",
   "execution_count": 21,
   "metadata": {},
   "outputs": [
    {
     "data": {
      "image/png": "[encoded data removed]",
      "text/plain": [
       "<Figure size 432x288 with 1 Axes>"
      ]
     },
     "metadata": {
      "needs_background": "light"
     },
     "output_type": "display_data"
    }
   ],
   "source": [
    "#plt.plot(Response)\n",
    "t = np.arange(1,1001,1)\n",
    "plt.plot(t,G[:1000])\n",
    "plt.plot([100,1000],[0.025,0.025*10**-0.1])\n",
    "plt.ylabel(r\"$G(\\tau)$\",fontsize=15)\n",
    "plt.xlabel(r\"$\\tau$\",fontsize=15)\n",
    "plt.yscale(\"log\")\n",
    "plt.xscale(\"log\")\n",
    "#plt.savefig(\"LO_size.png\")\n",
    "plt.savefig(\"../../../docs/CodeExample/PriceImpact/PropagatorModel_Direct.png\")"
   ]
  },
  {
   "cell_type": "code",
   "execution_count": null,
   "metadata": {},
   "outputs": [],
   "source": []
  }
 ],
 "metadata": {
  "kernelspec": {
   "display_name": "Python 3.8.10 64-bit",
   "language": "python",
   "name": "python3"
  },
  "language_info": {
   "codemirror_mode": {
    "name": "ipython",
    "version": 3
   },
   "file_extension": ".py",
   "mimetype": "text/x-python",
   "name": "python",
   "nbconvert_exporter": "python",
   "pygments_lexer": "ipython3",
   "version": "3.8.10"
  },
  "orig_nbformat": 4,
  "vscode": {
   "interpreter": {
    "hash": "916dbcbb3f70747c44a77c7bcd40155683ae19c65e1c03b4aa3499c5328201f1"
   }
  }
 },
 "nbformat": 4,
 "nbformat_minor": 2
}
