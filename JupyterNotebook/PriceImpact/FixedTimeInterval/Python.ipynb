{
 "cells": [
  {
   "cell_type": "code",
   "execution_count": 1,
   "metadata": {},
   "outputs": [],
   "source": [
    "import pandas as pd\n",
    "import os\n",
    "import numpy as np\n",
    "import matplotlib.pyplot as plt\n",
    "import seaborn as sns"
   ]
  },
  {
   "cell_type": "code",
   "execution_count": 2,
   "metadata": {},
   "outputs": [],
   "source": [
    "def binning(x,y,nbin=10,eq = True):\n",
    "    step = (np.max(x)-np.min(x))/(nbin)\n",
    "    X = []\n",
    "    Y = []\n",
    "    Yerr = []\n",
    "    tmpY = []\n",
    "    start = np.min(x)+step\n",
    "    if eq:\n",
    "        for i in range(len(x)):\n",
    "            while x[i] > start:\n",
    "                X.append(start-step/2)\n",
    "                Y.append(np.mean(tmpY))\n",
    "                #Xerr.append(np.std(tmpX,ddof=1) /np.sqrt(len(tmpX)) )\n",
    "                Yerr.append(np.std(tmpY,ddof=1) /np.sqrt(len(tmpY)) )\n",
    "                start += step\n",
    "                tmpY=[]\n",
    "                pass\n",
    "            tmpY.append(y[i])\n",
    "            pass\n",
    "        if len(tmpY)!=0:\n",
    "            X.append(start-step/2)\n",
    "            Y.append(np.mean(tmpY))\n",
    "            Yerr.append(np.std(tmpY,ddof=1) /np.sqrt(len(tmpY)) )\n",
    "        return X,Y,Yerr\n",
    "        pass\n",
    "    else:\n",
    "        tmpX = []\n",
    "        Xerr = []\n",
    "        for i in range(len(x)):\n",
    "            while x[i] > start:\n",
    "                X.append(np.mean(tmpX))\n",
    "                Y.append(np.mean(tmpY))\n",
    "                Xerr.append(np.std(tmpX,ddof=1) /np.sqrt(len(tmpX)) )\n",
    "                Yerr.append(np.std(tmpY,ddof=1) /np.sqrt(len(tmpY)) )\n",
    "                start += step\n",
    "                tmpX=[]\n",
    "                tmpY=[]\n",
    "                pass\n",
    "            tmpX.append(x[i])\n",
    "            tmpY.append(y[i])\n",
    "            pass\n",
    "        if len(tmpY)!=0:\n",
    "            X.append(np.mean(tmpX))\n",
    "            Y.append(np.mean(tmpY))\n",
    "            Xerr.append(np.std(tmpX,ddof=1) /np.sqrt(len(tmpX)) )\n",
    "            Yerr.append(np.std(tmpY,ddof=1) /np.sqrt(len(tmpY)) )\n",
    "        return X, Y, Yerr"
   ]
  },
  {
   "cell_type": "code",
   "execution_count": 3,
   "metadata": {},
   "outputs": [],
   "source": [
    "def PreProcessing(t,price):\n",
    "    T = np.zeros(len(t))\n",
    "    Price = np.zeros(len(t))\n",
    "    prev = t[0]\n",
    "    n = 0\n",
    "    for i in range(len(t)):\n",
    "        n += (prev != t[i])\n",
    "        T[n] = t[i]\n",
    "        Price[n] = price[i]\n",
    "        prev = t[i]\n",
    "        pass\n",
    "    return T[:n+1],Price[:n+1]"
   ]
  },
  {
   "cell_type": "code",
   "execution_count": 4,
   "metadata": {},
   "outputs": [],
   "source": [
    "INTC_LOB   = np.sort([\"../../Data/INTC/\"+i for i in os.listdir(\"../../Data/INTC\") if i[-8]==\"k\"])\n",
    "TSLA_LOB   = np.sort([\"../../Data/TSLA/\"+i for i in os.listdir(\"../../Data/TSLA\") if i[-8]==\"k\"])\n",
    "INTC_order = np.sort([\"../../Data/INTC/\"+i for i in os.listdir(\"../../Data/INTC\") if i[-8]!=\"k\"])\n",
    "TSLA_order = np.sort([\"../../Data/TSLA/\"+i for i in os.listdir(\"../../Data/TSLA\") if i[-8]!=\"k\"])"
   ]
  },
  {
   "cell_type": "markdown",
   "metadata": {},
   "source": [
    "## 2.2 Price flactuation and diffusion\n",
    "``Here, the price $p_n$ is defined as the mid-point before n-th trade: $p_n:=m_{m^{-}}$''"
   ]
  },
  {
   "cell_type": "markdown",
   "metadata": {},
   "source": [
    "## Response function and market impact\n",
    "Response function of transaction can be defined as\n",
    "$$\n",
    "R(l) := \\left\\langle \\left( p(l+t) -p(t)\\right)\\epsilon(t) \\right\\rangle\n",
    "$$"
   ]
  },
  {
   "cell_type": "code",
   "execution_count": 22,
   "metadata": {},
   "outputs": [],
   "source": [
    "def ResponseFunctionVolume(time, record, midprice, sign, vol, step = 300, start=34200 , end= 57600):\n",
    "    T = np.arange(start,end+step,step)\n",
    "    Mid = np.zeros(T.shape[0])\n",
    "    Vol = np.zeros(T.shape[0])\n",
    "    prev = 0\n",
    "    n = 0\n",
    "    Mid[n] = midprice[n]\n",
    "    prev = Mid[0]\n",
    "    result = np.zeros((len(T)-1,4))\n",
    "    mid = 0\n",
    "    M = 0\n",
    "    for i in range(len(T)-1):\n",
    "        use = ((T[i]<=time) & (time<T[i+1]))\n",
    "        mid = midprice[use]\n",
    "        use = (use & (record==4))\n",
    "        V = vol[use]\n",
    "        if len(V)!=0:\n",
    "            M += np.sum(V)\n",
    "            Sign = sign[use]\n",
    "            total = -np.sum(Sign*V)\n",
    "            result[i,0] = prev\n",
    "            result[i,1] = mid[-1]\n",
    "            result[i,2] = total\n",
    "            result[i,3] = V.shape[0]\n",
    "            pass\n",
    "        else:\n",
    "            result[i,0] = prev\n",
    "            result[i,1] = mid[-1]\n",
    "            result[i,2] = 0\n",
    "            result[i,3] = 0\n",
    "        prev = mid[-1]\n",
    "        pass\n",
    "    result[:,2] /= M\n",
    "    return  result"
   ]
  },
  {
   "cell_type": "code",
   "execution_count": 23,
   "metadata": {},
   "outputs": [],
   "source": [
    "a = ResponseFunctionVolume(data[0].values, data[1].values, data[2].values, data[5].values, data[3].values, step = 300, start=34200 , end= 57600)"
   ]
  },
  {
   "cell_type": "code",
   "execution_count": 25,
   "metadata": {},
   "outputs": [
    {
     "data": {
      "text/plain": [
       "array([[ 2.03885000e+06,  2.04765000e+06,  7.31809136e-03,\n",
       "         9.40000000e+01],\n",
       "       [ 2.04765000e+06,  2.05485000e+06,  4.01082509e-03,\n",
       "         1.38000000e+02],\n",
       "       [ 2.05485000e+06,  2.07135000e+06,  1.47999266e-02,\n",
       "         1.37000000e+02],\n",
       "       [ 2.07135000e+06,  2.05845000e+06, -3.11653165e-03,\n",
       "         1.23000000e+02],\n",
       "       [ 2.05845000e+06,  2.05935000e+06,  8.23757616e-03,\n",
       "         1.12000000e+02],\n",
       "       [ 2.05935000e+06,  2.05135000e+06,  3.68333735e-03,\n",
       "         8.50000000e+01],\n",
       "       [ 2.05135000e+06,  2.05020000e+06, -9.44676165e-04,\n",
       "         1.18000000e+02],\n",
       "       [ 2.05020000e+06,  2.04600000e+06,  2.19524747e-03,\n",
       "         8.80000000e+01],\n",
       "       [ 2.04600000e+06,  2.04840000e+06,  4.31851961e-05,\n",
       "         9.40000000e+01],\n",
       "       [ 2.04840000e+06,  2.04825000e+06,  3.28567367e-03,\n",
       "         5.10000000e+01],\n",
       "       [ 2.04825000e+06,  2.03940000e+06, -3.44761816e-03,\n",
       "         4.50000000e+01],\n",
       "       [ 2.03940000e+06,  2.04345000e+06,  4.31312146e-03,\n",
       "         7.60000000e+01],\n",
       "       [ 2.04345000e+06,  2.03985000e+06, -7.43145250e-04,\n",
       "         8.70000000e+01],\n",
       "       [ 2.03985000e+06,  2.04465000e+06,  1.99011779e-03,\n",
       "         1.11000000e+02],\n",
       "       [ 2.04465000e+06,  2.04730000e+06,  5.65546131e-03,\n",
       "         4.90000000e+01],\n",
       "       [ 2.04730000e+06,  2.04920000e+06,  9.64469380e-04,\n",
       "         4.10000000e+01],\n",
       "       [ 2.04920000e+06,  2.04120000e+06, -1.23977501e-03,\n",
       "         4.80000000e+01],\n",
       "       [ 2.04120000e+06,  2.04225000e+06, -1.67090721e-02,\n",
       "         1.57000000e+02],\n",
       "       [ 2.04225000e+06,  2.04350000e+06,  4.48046410e-03,\n",
       "         9.30000000e+01],\n",
       "       [ 2.04350000e+06,  2.04420000e+06, -6.99780115e-03,\n",
       "         8.10000000e+01],\n",
       "       [ 2.04420000e+06,  2.04120000e+06, -5.14803525e-03,\n",
       "         8.30000000e+01],\n",
       "       [ 2.04120000e+06,  2.04145000e+06,  1.33514231e-03,\n",
       "         5.60000000e+01],\n",
       "       [ 2.04145000e+06,  2.04175000e+06, -5.55109708e-03,\n",
       "         7.10000000e+01],\n",
       "       [ 2.04175000e+06,  2.04875000e+06,  1.40603801e-02,\n",
       "         7.90000000e+01],\n",
       "       [ 2.04875000e+06,  2.05025000e+06, -3.14712117e-03,\n",
       "         7.30000000e+01],\n",
       "       [ 2.05025000e+06,  2.04965000e+06,  8.63703922e-05,\n",
       "         3.50000000e+01],\n",
       "       [ 2.04965000e+06,  2.05395000e+06,  2.68108093e-03,\n",
       "         6.90000000e+01],\n",
       "       [ 2.05395000e+06,  2.05095000e+06,  6.60373624e-04,\n",
       "         8.60000000e+01],\n",
       "       [ 2.05095000e+06,  2.04945000e+06, -1.78858687e-03,\n",
       "         5.00000000e+01],\n",
       "       [ 2.04945000e+06,  2.05340000e+06,  3.51779410e-03,\n",
       "         5.30000000e+01],\n",
       "       [ 2.05340000e+06,  2.05225000e+06, -1.37292936e-03,\n",
       "         8.10000000e+01],\n",
       "       [ 2.05225000e+06,  2.05225000e+06,  2.26182465e-03,\n",
       "         2.80000000e+01],\n",
       "       [ 2.05225000e+06,  2.05665000e+06,  2.69727537e-03,\n",
       "         4.40000000e+01],\n",
       "       [ 2.05665000e+06,  2.05715000e+06, -2.64869203e-03,\n",
       "         4.80000000e+01],\n",
       "       [ 2.05715000e+06,  2.05735000e+06, -2.60730622e-03,\n",
       "         3.70000000e+01],\n",
       "       [ 2.05735000e+06,  2.06240000e+06,  3.38284036e-03,\n",
       "         8.00000000e+01],\n",
       "       [ 2.06240000e+06,  2.05715000e+06, -2.74046057e-03,\n",
       "         2.90000000e+01],\n",
       "       [ 2.05715000e+06,  2.05605000e+06,  2.65588956e-03,\n",
       "         3.60000000e+01],\n",
       "       [ 2.05605000e+06,  2.05480000e+06,  9.57271847e-04,\n",
       "         2.60000000e+01],\n",
       "       [ 2.05480000e+06,  2.05000000e+06, -1.09762373e-04,\n",
       "         5.40000000e+01],\n",
       "       [ 2.05000000e+06,  2.05220000e+06,  2.49034631e-03,\n",
       "         4.70000000e+01],\n",
       "       [ 2.05220000e+06,  2.04820000e+06, -3.89566457e-03,\n",
       "         3.40000000e+01],\n",
       "       [ 2.04820000e+06,  2.04805000e+06,  1.38372566e-03,\n",
       "         2.70000000e+01],\n",
       "       [ 2.04805000e+06,  2.04680000e+06, -2.59111177e-04,\n",
       "         2.50000000e+01],\n",
       "       [ 2.04680000e+06,  2.04075000e+06,  1.38912381e-03,\n",
       "         3.60000000e+01],\n",
       "       [ 2.04075000e+06,  2.04150000e+06, -3.20290205e-03,\n",
       "         5.50000000e+01],\n",
       "       [ 2.04150000e+06,  2.03575000e+06, -6.71709738e-03,\n",
       "         9.70000000e+01],\n",
       "       [ 2.03575000e+06,  2.04120000e+06, -8.25916876e-04,\n",
       "         4.00000000e+01],\n",
       "       [ 2.04120000e+06,  2.04440000e+06, -7.62938465e-04,\n",
       "         3.00000000e+01],\n",
       "       [ 2.04440000e+06,  2.04315000e+06,  6.49577325e-04,\n",
       "         1.30000000e+01],\n",
       "       [ 2.04315000e+06,  2.04110000e+06,  5.75802615e-05,\n",
       "         3.10000000e+01],\n",
       "       [ 2.04110000e+06,  2.04345000e+06, -2.87901307e-04,\n",
       "         2.60000000e+01],\n",
       "       [ 2.04345000e+06,  2.04295000e+06, -5.83000148e-04,\n",
       "         5.30000000e+01],\n",
       "       [ 2.04295000e+06,  2.04420000e+06,  1.42151271e-04,\n",
       "         2.90000000e+01],\n",
       "       [ 2.04420000e+06,  2.04305000e+06, -4.31851961e-04,\n",
       "         4.20000000e+01],\n",
       "       [ 2.04305000e+06,  2.04805000e+06,  3.50159965e-03,\n",
       "         5.30000000e+01],\n",
       "       [ 2.04805000e+06,  2.04600000e+06,  8.15120577e-04,\n",
       "         4.20000000e+01],\n",
       "       [ 2.04600000e+06,  2.05440000e+06,  3.78410281e-03,\n",
       "         6.10000000e+01],\n",
       "       [ 2.05440000e+06,  2.05585000e+06,  9.86061978e-04,\n",
       "         5.60000000e+01],\n",
       "       [ 2.05585000e+06,  2.06595000e+06,  1.45893988e-02,\n",
       "         1.56000000e+02],\n",
       "       [ 2.06595000e+06,  2.06610000e+06, -1.77958996e-03,\n",
       "         1.22000000e+02],\n",
       "       [ 2.06610000e+06,  2.06685000e+06, -3.38284036e-03,\n",
       "         4.00000000e+01],\n",
       "       [ 2.06685000e+06,  2.06645000e+06, -3.32346072e-03,\n",
       "         7.20000000e+01],\n",
       "       [ 2.06645000e+06,  2.06085000e+06, -5.07066178e-03,\n",
       "         1.10000000e+02],\n",
       "       [ 2.06085000e+06,  2.05570000e+06, -8.36713175e-03,\n",
       "         7.60000000e+01],\n",
       "       [ 2.05570000e+06,  2.05255000e+06, -2.14846351e-03,\n",
       "         9.30000000e+01],\n",
       "       [ 2.05255000e+06,  2.05165000e+06, -1.11669720e-02,\n",
       "         8.60000000e+01],\n",
       "       [ 2.05165000e+06,  2.04670000e+06,  2.46695433e-03,\n",
       "         6.20000000e+01],\n",
       "       [ 2.04670000e+06,  2.04900000e+06,  2.33919812e-04,\n",
       "         4.00000000e+01],\n",
       "       [ 2.04900000e+06,  2.04435000e+06, -2.11427523e-03,\n",
       "         4.70000000e+01],\n",
       "       [ 2.04435000e+06,  2.04090000e+06,  2.21324130e-04,\n",
       "         8.70000000e+01],\n",
       "       [ 2.04090000e+06,  2.04300000e+06, -1.48089235e-03,\n",
       "         1.53000000e+02],\n",
       "       [ 2.04300000e+06,  2.03680000e+06, -4.86733148e-03,\n",
       "         1.23000000e+02],\n",
       "       [ 2.03680000e+06,  2.03795000e+06, -5.83000148e-04,\n",
       "         7.30000000e+01],\n",
       "       [ 2.03795000e+06,  2.03500000e+06, -2.93839272e-03,\n",
       "         9.80000000e+01],\n",
       "       [ 2.03500000e+06,  2.03420000e+06,  9.03290352e-04,\n",
       "         8.10000000e+01],\n",
       "       [ 2.03420000e+06,  2.03515000e+06,  2.20604377e-03,\n",
       "         1.38000000e+02],\n",
       "       [ 2.03515000e+06,  2.03570000e+06,  5.05446733e-03,\n",
       "         4.04000000e+02]])"
      ]
     },
     "execution_count": 25,
     "metadata": {},
     "output_type": "execute_result"
    }
   ],
   "source": []
  },
  {
   "cell_type": "code",
   "execution_count": 19,
   "metadata": {},
   "outputs": [
    {
     "data": {
      "text/plain": [
       "<matplotlib.collections.PathCollection at 0x7f62daca3ee0>"
      ]
     },
     "execution_count": 19,
     "metadata": {},
     "output_type": "execute_result"
    },
    {
     "data": {
      "image/png": "[encoded data removed]",
      "text/plain": [
       "<Figure size 640x480 with 1 Axes>"
      ]
     },
     "metadata": {},
     "output_type": "display_data"
    }
   ],
   "source": [
    "plt.scatter(a[:,2],a[:,1]-a[:,0])"
   ]
  },
  {
   "cell_type": "code",
   "execution_count": null,
   "metadata": {},
   "outputs": [],
   "source": []
  },
  {
   "cell_type": "code",
   "execution_count": null,
   "metadata": {},
   "outputs": [],
   "source": [
    "ResponseFunctionVolume(data[0].values, data[1].values, data[2].values, data[5].values, data[3].values, dt = 300, start=34200 , end= 57600)"
   ]
  },
  {
   "cell_type": "code",
   "execution_count": 26,
   "metadata": {},
   "outputs": [],
   "source": [
    "Result = []\n",
    "for i,z in zip(TSLA_order,TSLA_LOB):\n",
    "    data = pd.read_csv(i,header=None)[[0,1,3,5]]\n",
    "    lob = pd.read_csv(z,header=None)[[0,2]]\n",
    "    data[2] = (lob[0]+lob[2])/2\n",
    "    a= ResponseFunctionVolume(data[0].values, data[1].values, data[2].values, data[5].values, data[3].values, step = 300, start=34200 , end= 57600)\n",
    "    Result.extend(a.tolist().copy())\n",
    "    pass\n"
   ]
  },
  {
   "cell_type": "code",
   "execution_count": 27,
   "metadata": {},
   "outputs": [],
   "source": [
    "Result = pd.DataFrame(Result)"
   ]
  },
  {
   "cell_type": "code",
   "execution_count": 110,
   "metadata": {},
   "outputs": [],
   "source": [
    "def binning(x,y,nbin=10,eq = True,step = 0.01):\n",
    "    step = (0.04)/(nbin)\n",
    "    X = []\n",
    "    Y = []\n",
    "    Yerr = []\n",
    "    tmpY = []\n",
    "    start = np.min(x)+step\n",
    "    if eq:\n",
    "        for i in range(len(x)):\n",
    "            while x[i] > start:\n",
    "                print(len(tmpY))\n",
    "                X.append(start-step/2)\n",
    "                Y.append(np.mean(tmpY))\n",
    "                #Xerr.append(np.std(tmpX,ddof=1) /np.sqrt(len(tmpX)) )\n",
    "                Yerr.append(np.std(tmpY,ddof=1) /np.sqrt(len(tmpY)) )\n",
    "                start += step\n",
    "                tmpY=[]\n",
    "                pass\n",
    "            tmpY.append(y[i])\n",
    "            pass\n",
    "        if len(tmpY)!=0:\n",
    "            print(len(tmpY))\n",
    "            X.append(start-step/2)\n",
    "            Y.append(np.mean(tmpY))\n",
    "            Yerr.append(np.std(tmpY,ddof=1) /np.sqrt(len(tmpY)) )\n",
    "        return X,Y,Yerr\n",
    "        pass\n",
    "    else:\n",
    "        tmpX = []\n",
    "        Xerr = []\n",
    "        for i in range(len(x)):\n",
    "            while x[i] > start:\n",
    "                X.append(np.mean(tmpX))\n",
    "                Y.append(np.mean(tmpY))\n",
    "                Xerr.append(np.std(tmpX,ddof=1) /np.sqrt(len(tmpX)) )\n",
    "                Yerr.append(np.std(tmpY,ddof=1) /np.sqrt(len(tmpY)) )\n",
    "                start += step\n",
    "                tmpX=[]\n",
    "                tmpY=[]\n",
    "                pass\n",
    "            tmpX.append(x[i])\n",
    "            tmpY.append(y[i])\n",
    "            pass\n",
    "        if len(tmpY)!=0:\n",
    "            X.append(np.mean(tmpX))\n",
    "            Y.append(np.mean(tmpY))\n",
    "            Xerr.append(np.std(tmpX,ddof=1) /np.sqrt(len(tmpX)) )\n",
    "            Yerr.append(np.std(tmpY,ddof=1) /np.sqrt(len(tmpY)) )\n",
    "        return X, Y, Yerr"
   ]
  },
  {
   "cell_type": "code",
   "execution_count": 111,
   "metadata": {},
   "outputs": [
    {
     "name": "stdout",
     "output_type": "stream",
     "text": [
      "1\n",
      "0\n",
      "0\n",
      "0\n",
      "0\n",
      "0\n",
      "0\n",
      "1\n",
      "0\n",
      "0\n",
      "0\n",
      "0\n",
      "0\n",
      "0\n",
      "0\n",
      "0\n",
      "0\n",
      "0\n",
      "0\n",
      "0\n",
      "1\n",
      "0\n",
      "0\n",
      "2\n",
      "1\n",
      "1\n",
      "0\n",
      "0\n",
      "3\n",
      "1\n",
      "1\n",
      "4\n",
      "8\n",
      "10\n",
      "9\n",
      "12\n",
      "10\n",
      "17\n",
      "16\n",
      "27\n",
      "41\n",
      "73\n",
      "147\n",
      "189\n",
      "292\n",
      "249\n",
      "153\n",
      "95\n",
      "61\n",
      "31\n",
      "30\n",
      "14\n",
      "14\n",
      "10\n",
      "9\n",
      "8\n",
      "2\n",
      "2\n",
      "2\n",
      "1\n",
      "3\n",
      "2\n",
      "1\n",
      "2\n",
      "1\n",
      "0\n",
      "0\n",
      "1\n",
      "0\n",
      "0\n",
      "0\n",
      "0\n",
      "0\n",
      "0\n",
      "0\n",
      "0\n",
      "0\n",
      "1\n",
      "0\n",
      "0\n",
      "1\n"
     ]
    },
    {
     "name": "stderr",
     "output_type": "stream",
     "text": [
      "/usr/local/lib/python3.8/dist-packages/numpy/core/_methods.py:265: RuntimeWarning: Degrees of freedom <= 0 for slice\n",
      "  ret = _var(a, axis=axis, dtype=dtype, out=out, ddof=ddof,\n",
      "/usr/local/lib/python3.8/dist-packages/numpy/core/_methods.py:257: RuntimeWarning: invalid value encountered in double_scalars\n",
      "  ret = ret.dtype.type(ret / rcount)\n",
      "/usr/local/lib/python3.8/dist-packages/numpy/core/fromnumeric.py:3432: RuntimeWarning: Mean of empty slice.\n",
      "  return _methods._mean(a, axis=axis, dtype=dtype,\n",
      "/usr/local/lib/python3.8/dist-packages/numpy/core/_methods.py:190: RuntimeWarning: invalid value encountered in double_scalars\n",
      "  ret = ret.dtype.type(ret / rcount)\n",
      "/usr/local/lib/python3.8/dist-packages/numpy/core/_methods.py:223: RuntimeWarning: invalid value encountered in divide\n",
      "  arrmean = um.true_divide(arrmean, div, out=arrmean, casting='unsafe',\n"
     ]
    }
   ],
   "source": [
    "a = pd.DataFrame([Result[2].values, (Result[1]-Result[0]).values]).T.sort_values(0).values\n",
    "x,y,yerr = binning(a[:,0],a[:,1],30)\n"
   ]
  },
  {
   "cell_type": "code",
   "execution_count": 112,
   "metadata": {},
   "outputs": [
    {
     "data": {
      "text/plain": [
       "[-0.05891002256127873,\n",
       " -0.0575766892279454,\n",
       " -0.05624335589461207,\n",
       " -0.054910022561278735,\n",
       " -0.0535766892279454,\n",
       " -0.05224335589461207,\n",
       " -0.05091002256127874,\n",
       " -0.049576689227945406,\n",
       " -0.048243355894612074,\n",
       " -0.04691002256127874,\n",
       " -0.04557668922794541,\n",
       " -0.04424335589461208,\n",
       " -0.042910022561278745,\n",
       " -0.04157668922794541,\n",
       " -0.04024335589461208,\n",
       " -0.03891002256127875,\n",
       " -0.037576689227945416,\n",
       " -0.036243355894612084,\n",
       " -0.03491002256127875,\n",
       " -0.03357668922794542,\n",
       " -0.03224335589461209,\n",
       " -0.03091002256127875,\n",
       " -0.02957668922794542,\n",
       " -0.028243355894612087,\n",
       " -0.026910022561278755,\n",
       " -0.025576689227945423,\n",
       " -0.02424335589461209,\n",
       " -0.022910022561278758,\n",
       " -0.021576689227945426,\n",
       " -0.020243355894612094,\n",
       " -0.01891002256127876,\n",
       " -0.01757668922794543,\n",
       " -0.016243355894612097,\n",
       " -0.014910022561278762,\n",
       " -0.013576689227945428,\n",
       " -0.012243355894612094,\n",
       " -0.01091002256127876,\n",
       " -0.009576689227945426,\n",
       " -0.008243355894612094,\n",
       " -0.0069100225612787605,\n",
       " -0.005576689227945427,\n",
       " -0.004243355894612094,\n",
       " -0.002910022561278761,\n",
       " -0.0015766892279454278,\n",
       " -0.00024335589461209437,\n",
       " 0.0010899774387212388,\n",
       " 0.0024233107720545723,\n",
       " 0.0037566441053879054,\n",
       " 0.005089977438721238,\n",
       " 0.006423310772054571,\n",
       " 0.007756644105387904,\n",
       " 0.009089977438721239,\n",
       " 0.010423310772054573,\n",
       " 0.011756644105387907,\n",
       " 0.01308997743872124,\n",
       " 0.014423310772054575,\n",
       " 0.015756644105387907,\n",
       " 0.01708997743872124,\n",
       " 0.01842331077205457,\n",
       " 0.019756644105387904,\n",
       " 0.021089977438721236,\n",
       " 0.022423310772054568,\n",
       " 0.0237566441053879,\n",
       " 0.025089977438721232,\n",
       " 0.026423310772054565,\n",
       " 0.027756644105387897,\n",
       " 0.02908997743872123,\n",
       " 0.03042331077205456,\n",
       " 0.03175664410538789,\n",
       " 0.033089977438721226,\n",
       " 0.03442331077205456,\n",
       " 0.03575664410538789,\n",
       " 0.03708997743872122,\n",
       " 0.038423310772054554,\n",
       " 0.03975664410538789,\n",
       " 0.04108997743872122,\n",
       " 0.04242331077205455,\n",
       " 0.04375664410538788,\n",
       " 0.045089977438721215,\n",
       " 0.04642331077205455,\n",
       " 0.04775664410538788]"
      ]
     },
     "execution_count": 112,
     "metadata": {},
     "output_type": "execute_result"
    }
   ],
   "source": [
    "x"
   ]
  },
  {
   "cell_type": "code",
   "execution_count": 113,
   "metadata": {},
   "outputs": [
    {
     "data": {
      "text/plain": [
       "(1560, 4)"
      ]
     },
     "execution_count": 113,
     "metadata": {},
     "output_type": "execute_result"
    }
   ],
   "source": [
    "Result.shape"
   ]
  },
  {
   "cell_type": "code",
   "execution_count": 114,
   "metadata": {},
   "outputs": [
    {
     "data": {
      "text/plain": [
       "<AxesSubplot: xlabel='2', ylabel='Count'>"
      ]
     },
     "execution_count": 114,
     "metadata": {},
     "output_type": "execute_result"
    },
    {
     "data": {
      "image/png": "[encoded data removed]",
      "text/plain": [
       "<Figure size 640x480 with 1 Axes>"
      ]
     },
     "metadata": {},
     "output_type": "display_data"
    }
   ],
   "source": [
    "sns.histplot(Result[2])"
   ]
  },
  {
   "cell_type": "code",
   "execution_count": 117,
   "metadata": {},
   "outputs": [
    {
     "data": {
      "text/plain": [
       "<ErrorbarContainer object of 3 artists>"
      ]
     },
     "execution_count": 117,
     "metadata": {},
     "output_type": "execute_result"
    },
    {
     "data": {
      "image/png": "[encoded data removed]",
      "text/plain": [
       "<Figure size 640x480 with 1 Axes>"
      ]
     },
     "metadata": {},
     "output_type": "display_data"
    }
   ],
   "source": [
    "plt.scatter(Result[2],Result[1]-Result[0])\n",
    "plt.errorbar(x,y,yerr =yerr,color=\"red\")"
   ]
  },
  {
   "cell_type": "code",
   "execution_count": 160,
   "metadata": {},
   "outputs": [],
   "source": [
    "use = [(not i) for i in  np.isnan(y)]\n",
    "use = np.array(use)#.astype(int)\n",
    "x = np.array(x)\n",
    "y = np.array(y)"
   ]
  },
  {
   "cell_type": "code",
   "execution_count": 167,
   "metadata": {},
   "outputs": [
    {
     "data": {
      "text/plain": [
       "[<matplotlib.lines.Line2D at 0x7f63404ccfa0>]"
      ]
     },
     "execution_count": 167,
     "metadata": {},
     "output_type": "execute_result"
    },
    {
     "data": {
      "image/png": "[encoded data removed]",
      "text/plain": [
       "<Figure size 640x480 with 1 Axes>"
      ]
     },
     "metadata": {},
     "output_type": "display_data"
    }
   ],
   "source": [
    "plt.scatter(np.log10( np.abs(x[use])),np.log10( np.abs(y[use])))\n",
    "plt.plot([-3.0,-1.5],[3,4.1])\n"
   ]
  },
  {
   "cell_type": "code",
   "execution_count": 169,
   "metadata": {},
   "outputs": [
    {
     "data": {
      "text/plain": [
       "LinregressResult(slope=0.5593568392798882, intercept=4.796170470834358, rvalue=0.6157944422240712, pvalue=8.616108301200798e-06, stderr=0.11043415663990143, intercept_stderr=0.20896059974489015)"
      ]
     },
     "execution_count": 169,
     "metadata": {},
     "output_type": "execute_result"
    }
   ],
   "source": [
    "from scipy import stats\n",
    "a = np.argsort(np.abs(x[use]))\n",
    "\n",
    "stats.linregress(np.log10(np.abs(x[use])[a][2:] ),np.log10( np.abs(y[use])[a][2:] ))"
   ]
  },
  {
   "cell_type": "code",
   "execution_count": 155,
   "metadata": {},
   "outputs": [
    {
     "data": {
      "text/plain": [
       "array([False,  True,  True,  True,  True,  True,  True, False,  True,\n",
       "        True,  True,  True,  True,  True,  True,  True,  True,  True,\n",
       "        True,  True, False,  True,  True, False, False, False,  True,\n",
       "        True, False, False, False, False, False, False, False, False,\n",
       "       False, False, False, False, False, False, False, False, False,\n",
       "       False, False, False, False, False, False, False, False, False,\n",
       "       False, False, False, False, False, False, False, False, False,\n",
       "       False, False,  True,  True, False,  True,  True,  True,  True,\n",
       "        True,  True,  True,  True,  True, False,  True,  True, False])"
      ]
     },
     "execution_count": 155,
     "metadata": {},
     "output_type": "execute_result"
    }
   ],
   "source": [
    "np.isnan(y).astype()"
   ]
  },
  {
   "cell_type": "code",
   "execution_count": null,
   "metadata": {},
   "outputs": [],
   "source": []
  }
 ],
 "metadata": {
  "kernelspec": {
   "display_name": "Python 3.8.10 64-bit",
   "language": "python",
   "name": "python3"
  },
  "language_info": {
   "codemirror_mode": {
    "name": "ipython",
    "version": 3
   },
   "file_extension": ".py",
   "mimetype": "text/x-python",
   "name": "python",
   "nbconvert_exporter": "python",
   "pygments_lexer": "ipython3",
   "version": "3.8.10"
  },
  "orig_nbformat": 4,
  "vscode": {
   "interpreter": {
    "hash": "916dbcbb3f70747c44a77c7bcd40155683ae19c65e1c03b4aa3499c5328201f1"
   }
  }
 },
 "nbformat": 4,
 "nbformat_minor": 2
}
