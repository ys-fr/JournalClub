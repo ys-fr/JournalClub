{
 "cells": [
  {
   "cell_type": "code",
   "execution_count": 1,
   "metadata": {},
   "outputs": [],
   "source": [
    "import pandas as pd\n",
    "import os\n",
    "import numpy as np\n",
    "import matplotlib.pyplot as plt\n",
    "import seaborn as sns"
   ]
  },
  {
   "cell_type": "code",
   "execution_count": 2,
   "metadata": {},
   "outputs": [],
   "source": [
    "def binning(x,y,nbin=10,eq = True):\n",
    "    step = (np.max(x)-np.min(x))/(nbin)\n",
    "    X = []\n",
    "    Y = []\n",
    "    Yerr = []\n",
    "    tmpY = []\n",
    "    start = np.min(x)+step\n",
    "    if eq:\n",
    "        for i in range(len(x)):\n",
    "            while x[i] > start:\n",
    "                X.append(start-step/2)\n",
    "                Y.append(np.mean(tmpY))\n",
    "                #Xerr.append(np.std(tmpX,ddof=1) /np.sqrt(len(tmpX)) )\n",
    "                Yerr.append(np.std(tmpY,ddof=1) /np.sqrt(len(tmpY)) )\n",
    "                start += step\n",
    "                tmpY=[]\n",
    "                pass\n",
    "            tmpY.append(y[i])\n",
    "            pass\n",
    "        if len(tmpY)!=0:\n",
    "            X.append(start-step/2)\n",
    "            Y.append(np.mean(tmpY))\n",
    "            Yerr.append(np.std(tmpY,ddof=1) /np.sqrt(len(tmpY)) )\n",
    "        return X,Y,Yerr\n",
    "        pass\n",
    "    else:\n",
    "        tmpX = []\n",
    "        Xerr = []\n",
    "        for i in range(len(x)):\n",
    "            while x[i] > start:\n",
    "                X.append(np.mean(tmpX))\n",
    "                Y.append(np.mean(tmpY))\n",
    "                Xerr.append(np.std(tmpX,ddof=1) /np.sqrt(len(tmpX)) )\n",
    "                Yerr.append(np.std(tmpY,ddof=1) /np.sqrt(len(tmpY)) )\n",
    "                start += step\n",
    "                tmpX=[]\n",
    "                tmpY=[]\n",
    "                pass\n",
    "            tmpX.append(x[i])\n",
    "            tmpY.append(y[i])\n",
    "            pass\n",
    "        if len(tmpY)!=0:\n",
    "            X.append(np.mean(tmpX))\n",
    "            Y.append(np.mean(tmpY))\n",
    "            Xerr.append(np.std(tmpX,ddof=1) /np.sqrt(len(tmpX)) )\n",
    "            Yerr.append(np.std(tmpY,ddof=1) /np.sqrt(len(tmpY)) )\n",
    "        return X, Y, Yerr"
   ]
  },
  {
   "cell_type": "code",
   "execution_count": 3,
   "metadata": {},
   "outputs": [],
   "source": [
    "def PreProcessing(t,price):\n",
    "    T = np.zeros(len(t))\n",
    "    Price = np.zeros(len(t))\n",
    "    prev = t[0]\n",
    "    n = 0\n",
    "    for i in range(len(t)):\n",
    "        n += (prev != t[i])\n",
    "        T[n] = t[i]\n",
    "        Price[n] = price[i]\n",
    "        prev = t[i]\n",
    "        pass\n",
    "    return T[:n+1],Price[:n+1]"
   ]
  },
  {
   "cell_type": "code",
   "execution_count": 8,
   "metadata": {},
   "outputs": [],
   "source": [
    "INTC_LOB   = np.sort([\"../../Data/INTC/\"+i for i in os.listdir(\"../../Data/INTC\") if i[-8]==\"k\"])\n",
    "TSLA_LOB   = np.sort([\"../../Data/TSLA/\"+i for i in os.listdir(\"../../Data/TSLA\") if i[-8]==\"k\"])\n",
    "INTC_order = np.sort([\"../../Data/INTC/\"+i for i in os.listdir(\"../../Data/INTC\") if i[-8]!=\"k\"])\n",
    "TSLA_order = np.sort([\"../../Data/TSLA/\"+i for i in os.listdir(\"../../Data/TSLA\") if i[-8]!=\"k\"])"
   ]
  },
  {
   "cell_type": "markdown",
   "metadata": {},
   "source": [
    "## 2.2 Price flactuation and diffusion\n",
    "``Here, the price $p_n$ is defined as the mid-point before n-th trade: $p_n:=m_{m^{-}}$''"
   ]
  },
  {
   "cell_type": "code",
   "execution_count": 9,
   "metadata": {},
   "outputs": [],
   "source": [
    "def GetPriceBeforeTransaction(time, record, midprice):\n",
    "    Mid = np.zeros(time.shape[0])\n",
    "    prev = time[0]\n",
    "    n = 0\n",
    "    Mid[n] = prev\n",
    "    for i,z,w in zip(midprice,record,time):\n",
    "        n +=  ((z==4 or z==5) and prev != w)\n",
    "        Mid[n] = i\n",
    "        prev = w\n",
    "        pass\n",
    "    return Mid[:n]\n",
    "    pass\n"
   ]
  },
  {
   "cell_type": "code",
   "execution_count": 10,
   "metadata": {},
   "outputs": [],
   "source": [
    "TSLAPrice = []\n",
    "for i,z in zip(TSLA_order,TSLA_LOB):\n",
    "    data = pd.read_csv(i,header=None)[[0,1]]\n",
    "    lob = pd.read_csv(z,header=None)[[0,2]]\n",
    "    data[2] = (lob[0]+lob[2])/2\n",
    "    a=GetPriceBeforeTransaction(data[0].values,data[1].values, data[2].values)\n",
    "    TSLAPrice.extend(a.tolist().copy())\n",
    "    pass\n",
    "TSLAPrice = np.array(TSLAPrice)/10000\n",
    "\n",
    "INTCPrice = []\n",
    "for i,z in zip(INTC_order,INTC_LOB):\n",
    "    data = pd.read_csv(i,header=None)[[0,1]]\n",
    "    lob = pd.read_csv(z,header=None)[[0,2]]\n",
    "    data[2] = (lob[0]+lob[2])/2\n",
    "    a=GetPriceBeforeTransaction(data[0].values,data[1].values, data[2].values)\n",
    "    INTCPrice.extend(a.tolist().copy())\n",
    "    pass\n",
    "INTCPrice = np.array(INTCPrice)/10000"
   ]
  },
  {
   "cell_type": "code",
   "execution_count": 11,
   "metadata": {},
   "outputs": [],
   "source": [
    "r = [np.mean( (INTCPrice[i:]-INTCPrice[:-i])**2 )/i for i in range(1,10001)]\n",
    "r1 = np.array(r)"
   ]
  },
  {
   "cell_type": "code",
   "execution_count": 12,
   "metadata": {},
   "outputs": [],
   "source": [
    "r = [np.mean( (TSLAPrice[i:]-TSLAPrice[:-i])**2 )/i for i in range(1,10001)]\n",
    "r2 = np.array(r)"
   ]
  },
  {
   "cell_type": "code",
   "execution_count": 13,
   "metadata": {},
   "outputs": [
    {
     "data": {
      "text/plain": [
       "(0.0049999999999954525, 0.0049999999999954525)"
      ]
     },
     "execution_count": 13,
     "metadata": {},
     "output_type": "execute_result"
    }
   ],
   "source": [
    "np.min(np.sort(np.diff(np.sort(np.unique(INTCPrice))))),np.min(np.sort(np.diff(np.sort(np.unique(TSLAPrice)))))\n",
    "\n"
   ]
  },
  {
   "cell_type": "code",
   "execution_count": 16,
   "metadata": {},
   "outputs": [
    {
     "data": {
      "text/plain": [
       "(0.006602386649134702, 0.0684439392454017)"
      ]
     },
     "execution_count": 16,
     "metadata": {},
     "output_type": "execute_result"
    }
   ],
   "source": [
    "np.sqrt(r1[0]),np.sqrt(r2[0])"
   ]
  },
  {
   "cell_type": "markdown",
   "metadata": {},
   "source": [
    "### comment\n",
    "We observed almost the same result as argued in the paper."
   ]
  },
  {
   "cell_type": "code",
   "execution_count": 15,
   "metadata": {},
   "outputs": [
    {
     "ename": "NameError",
     "evalue": "name 't' is not defined",
     "output_type": "error",
     "traceback": [
      "\u001b[0;31m---------------------------------------------------------------------------\u001b[0m",
      "\u001b[0;31mNameError\u001b[0m                                 Traceback (most recent call last)",
      "Cell \u001b[0;32mIn [15], line 2\u001b[0m\n\u001b[1;32m      1\u001b[0m \u001b[39m#plt.scatter(t[:10000], sq_r1/sq_r1[0])\u001b[39;00m\n\u001b[0;32m----> 2\u001b[0m x,y,yerr \u001b[39m=\u001b[39m binning(np\u001b[39m.\u001b[39mlog10(t[:\u001b[39m10000\u001b[39m]),sq_r1,\u001b[39m20\u001b[39m)\n\u001b[1;32m      3\u001b[0m plt\u001b[39m.\u001b[39merrorbar(\u001b[39m10\u001b[39m\u001b[39m*\u001b[39m\u001b[39m*\u001b[39mnp\u001b[39m.\u001b[39marray(x), y, yerr \u001b[39m=\u001b[39myerr ,color\u001b[39m=\u001b[39m\u001b[39m\"\u001b[39m\u001b[39mred\u001b[39m\u001b[39m\"\u001b[39m,marker\u001b[39m=\u001b[39m\u001b[39m\"\u001b[39m\u001b[39mv\u001b[39m\u001b[39m\"\u001b[39m)\n\u001b[1;32m      4\u001b[0m \u001b[39m#plt.scatter(t[:10000], sq_r2/sq_r2[0])\u001b[39;00m\n",
      "\u001b[0;31mNameError\u001b[0m: name 't' is not defined"
     ]
    }
   ],
   "source": [
    "\n",
    "#plt.scatter(t[:10000], sq_r1/sq_r1[0])\n",
    "x,y,yerr = binning(np.log10(t[:10000]),sq_r1,20)\n",
    "plt.errorbar(10**np.array(x), y, yerr =yerr ,color=\"red\",marker=\"v\")\n",
    "#plt.scatter(t[:10000], sq_r2/sq_r2[0])\n",
    "x,y,yerr = binning(np.log10(t[:10000]),sq_r2,20)\n",
    "plt.errorbar(10**np.array(x), y, yerr =yerr ,color=\"black\",marker=\"D\")\n",
    "\n",
    "#plt.yscale(\"log\")\n",
    "plt.xscale(\"log\")\n"
   ]
  },
  {
   "cell_type": "markdown",
   "metadata": {},
   "source": [
    "## Response function and market impact\n",
    "Response function of transaction can be defined as\n",
    "$$\n",
    "R(l) := \\left\\langle \\left( p(l+t) -p(t)\\right)\\epsilon(t) \\right\\rangle\n",
    "$$"
   ]
  },
  {
   "cell_type": "code",
   "execution_count": 17,
   "metadata": {},
   "outputs": [],
   "source": [
    "def ResponseFunction(time, record, midprice, sign):\n",
    "    Mid = np.zeros(time.shape[0])\n",
    "    Sign = np.zeros(time.shape[0])\n",
    "    prev = 0\n",
    "    n = 0\n",
    "    Mid[n] = midprice[n]\n",
    "    for i,z,w,s in zip(midprice,record,time,sign):\n",
    "        Sign[n] += s*((z==4 or z==5) and prev != w)\n",
    "        n +=  ((z==4 or z==5) and prev != w)\n",
    "        Mid[n] = i\n",
    "        prev = w\n",
    "        pass\n",
    "    return Mid[:n],-Sign[:n]\n",
    "    pass"
   ]
  },
  {
   "cell_type": "code",
   "execution_count": 200,
   "metadata": {},
   "outputs": [],
   "source": [
    "TSLAPrice = []\n",
    "TSLASign = []\n",
    "for i,z in zip(TSLA_order,TSLA_LOB):\n",
    "    data = pd.read_csv(i,header=None)[[0,1,5]]\n",
    "    lob = pd.read_csv(z,header=None)[[0,2]]\n",
    "    data[2] = (lob[0]+lob[2])/2\n",
    "    a,b=ResponseFunction(data[0].values,data[1].values, data[2].values,data[5].values)\n",
    "    TSLAPrice.extend(a.tolist().copy())\n",
    "    TSLASign.extend(b.tolist().copy())\n",
    "#    break\n",
    "    pass\n",
    "TSLAPrice = np.array(TSLAPrice)/10000\n",
    "TSLASign = np.array(TSLASign)"
   ]
  },
  {
   "cell_type": "code",
   "execution_count": 201,
   "metadata": {},
   "outputs": [],
   "source": [
    "r = [np.mean( (TSLAPrice[i:]-TSLAPrice[:-i])*TSLASign[:-i] ) for i in range(1,10001)]\n",
    "r2 = np.array(r)\n",
    "t = np.arange(1,10001,1)"
   ]
  },
  {
   "cell_type": "code",
   "execution_count": 202,
   "metadata": {},
   "outputs": [
    {
     "name": "stderr",
     "output_type": "stream",
     "text": [
      "/home/kz-lab-admin/anaconda3/lib/python3.9/site-packages/numpy/core/_methods.py:262: RuntimeWarning: Degrees of freedom <= 0 for slice\n",
      "  ret = _var(a, axis=axis, dtype=dtype, out=out, ddof=ddof,\n",
      "/home/kz-lab-admin/anaconda3/lib/python3.9/site-packages/numpy/core/_methods.py:254: RuntimeWarning: invalid value encountered in double_scalars\n",
      "  ret = ret.dtype.type(ret / rcount)\n"
     ]
    },
    {
     "data": {
      "image/png": "[encoded data removed]",
      "text/plain": [
       "<Figure size 432x288 with 1 Axes>"
      ]
     },
     "metadata": {
      "needs_background": "light"
     },
     "output_type": "display_data"
    }
   ],
   "source": [
    "\n",
    "x,y,yerr = binning(np.log10(t),r2,15)\n",
    "plt.errorbar(10**np.array(x), y, yerr =yerr ,color=\"red\",marker=\"v\")\n",
    "plt.xscale(\"log\")\n"
   ]
  },
  {
   "cell_type": "code",
   "execution_count": 97,
   "metadata": {},
   "outputs": [],
   "source": [
    "def ResponseFunctionVolume(time, record, midprice, sign, vol):\n",
    "    Mid = np.zeros(time.shape[0])\n",
    "    Sign = np.zeros(time.shape[0])\n",
    "    Vol = np.zeros(time.shape[0])\n",
    "    prev = 0\n",
    "    n = 0\n",
    "    Mid[n] = midprice[n]\n",
    "    Vol[n] \n",
    "    for i,z,w,s,t in zip(midprice,record,time,sign,vol):\n",
    "        Sign[n] += s*((z==4 or z==5) and prev != w)\n",
    "        n +=  ((z==4 or z==5) and prev != w)\n",
    "        prev = w\n",
    "        Mid[n] = i\n",
    "        Vol[n] +=((z==4 or z==5) and prev == w)*t\n",
    "        pass\n",
    "    return Mid[1:n],-Sign[1:n], Vol[1:n]\n",
    "    pass"
   ]
  },
  {
   "cell_type": "code",
   "execution_count": 98,
   "metadata": {},
   "outputs": [],
   "source": [
    "TSLAPrice = []\n",
    "TSLASign = []\n",
    "TSLAVol = []\n",
    "for i,z in zip(TSLA_order,TSLA_LOB):\n",
    "    data = pd.read_csv(i,header=None)[[0,1,5,3]]\n",
    "    lob = pd.read_csv(z,header=None)[[0,2]]\n",
    "    data[2] = (lob[0]+lob[2])/2\n",
    "    a,b,c=ResponseFunctionVolume(data[0].values,data[1].values, data[2].values,data[5].values,data[3].values)\n",
    "    TSLAPrice.extend(a.tolist().copy())\n",
    "    TSLASign.extend(b.tolist().copy())\n",
    "    TSLAVol.extend(c.tolist().copy())\n",
    "    break\n",
    "    pass\n",
    "TSLAPrice = np.array(TSLAPrice)/10000\n",
    "TSLASign = np.array(TSLASign)"
   ]
  },
  {
   "cell_type": "code",
   "execution_count": 99,
   "metadata": {},
   "outputs": [],
   "source": [
    "TSLAVol = np.array(TSLAVol)\n"
   ]
  },
  {
   "cell_type": "code",
   "execution_count": 100,
   "metadata": {},
   "outputs": [],
   "source": [
    "a = np.diff(TSLAPrice)*TSLASign[:-1]\n"
   ]
  },
  {
   "cell_type": "code",
   "execution_count": 101,
   "metadata": {},
   "outputs": [
    {
     "data": {
      "text/plain": [
       "array([ 0.   , -0.055, -0.02 , ...,  0.   ,  0.   ,  0.   ])"
      ]
     },
     "execution_count": 101,
     "metadata": {},
     "output_type": "execute_result"
    }
   ],
   "source": [
    "np.diff(TSLAPrice)"
   ]
  },
  {
   "cell_type": "code",
   "execution_count": 102,
   "metadata": {},
   "outputs": [
    {
     "data": {
      "text/plain": [
       "array([-1., -1., -1., ..., -1.,  1.,  1.])"
      ]
     },
     "execution_count": 102,
     "metadata": {},
     "output_type": "execute_result"
    }
   ],
   "source": [
    "TSLASign"
   ]
  },
  {
   "cell_type": "code",
   "execution_count": 103,
   "metadata": {},
   "outputs": [
    {
     "data": {
      "text/plain": [
       "<AxesSubplot: >"
      ]
     },
     "execution_count": 103,
     "metadata": {},
     "output_type": "execute_result"
    },
    {
     "data": {
      "image/png": "[encoded data removed]",
      "text/plain": [
       "<Figure size 640x480 with 1 Axes>"
      ]
     },
     "metadata": {},
     "output_type": "display_data"
    }
   ],
   "source": [
    "sns.regplot( x = np.diff(TSLAPrice),y = TSLASign[:-1],x_bins=40)"
   ]
  },
  {
   "cell_type": "code",
   "execution_count": 105,
   "metadata": {},
   "outputs": [],
   "source": [
    "df = pd.DataFrame([TSLAVol[:-1],a]).T\n",
    "df[2]=df[0].apply(lambda x: int(x/10)* 10+5)\n",
    "a = df[[2,1]].groupby(2).mean()\n"
   ]
  },
  {
   "cell_type": "code",
   "execution_count": 112,
   "metadata": {},
   "outputs": [],
   "source": [
    "df[2]=df[0].apply(lambda x: int(x/10)* 10+5)\n",
    "a = df[[2,1]].groupby(2).mean()"
   ]
  },
  {
   "cell_type": "code",
   "execution_count": 117,
   "metadata": {},
   "outputs": [
    {
     "data": {
      "image/png": "[encoded data removed]",
      "text/plain": [
       "<Figure size 640x480 with 1 Axes>"
      ]
     },
     "metadata": {},
     "output_type": "display_data"
    }
   ],
   "source": [
    "plt.scatter(a.index,a[1])\n",
    "plt.xscale(\"log\")\n",
    "#plt.yscale(\"log\")\n"
   ]
  },
  {
   "cell_type": "code",
   "execution_count": 107,
   "metadata": {},
   "outputs": [
    {
     "data": {
      "text/html": [
       "<div>\n",
       "<style scoped>\n",
       "    .dataframe tbody tr th:only-of-type {\n",
       "        vertical-align: middle;\n",
       "    }\n",
       "\n",
       "    .dataframe tbody tr th {\n",
       "        vertical-align: top;\n",
       "    }\n",
       "\n",
       "    .dataframe thead th {\n",
       "        text-align: right;\n",
       "    }\n",
       "</style>\n",
       "<table border=\"1\" class=\"dataframe\">\n",
       "  <thead>\n",
       "    <tr style=\"text-align: right;\">\n",
       "      <th></th>\n",
       "      <th>1</th>\n",
       "    </tr>\n",
       "    <tr>\n",
       "      <th>2</th>\n",
       "      <th></th>\n",
       "    </tr>\n",
       "  </thead>\n",
       "  <tbody>\n",
       "    <tr>\n",
       "      <th>5</th>\n",
       "      <td>0.015671</td>\n",
       "    </tr>\n",
       "    <tr>\n",
       "      <th>15</th>\n",
       "      <td>0.016956</td>\n",
       "    </tr>\n",
       "    <tr>\n",
       "      <th>25</th>\n",
       "      <td>0.015407</td>\n",
       "    </tr>\n",
       "    <tr>\n",
       "      <th>35</th>\n",
       "      <td>0.021070</td>\n",
       "    </tr>\n",
       "    <tr>\n",
       "      <th>45</th>\n",
       "      <td>0.019635</td>\n",
       "    </tr>\n",
       "    <tr>\n",
       "      <th>...</th>\n",
       "      <td>...</td>\n",
       "    </tr>\n",
       "    <tr>\n",
       "      <th>2535</th>\n",
       "      <td>0.000000</td>\n",
       "    </tr>\n",
       "    <tr>\n",
       "      <th>3375</th>\n",
       "      <td>0.065000</td>\n",
       "    </tr>\n",
       "    <tr>\n",
       "      <th>3605</th>\n",
       "      <td>0.000000</td>\n",
       "    </tr>\n",
       "    <tr>\n",
       "      <th>4925</th>\n",
       "      <td>0.000000</td>\n",
       "    </tr>\n",
       "    <tr>\n",
       "      <th>13945</th>\n",
       "      <td>0.060000</td>\n",
       "    </tr>\n",
       "  </tbody>\n",
       "</table>\n",
       "<p>100 rows × 1 columns</p>\n",
       "</div>"
      ],
      "text/plain": [
       "              1\n",
       "2              \n",
       "5      0.015671\n",
       "15     0.016956\n",
       "25     0.015407\n",
       "35     0.021070\n",
       "45     0.019635\n",
       "...         ...\n",
       "2535   0.000000\n",
       "3375   0.065000\n",
       "3605   0.000000\n",
       "4925   0.000000\n",
       "13945  0.060000\n",
       "\n",
       "[100 rows x 1 columns]"
      ]
     },
     "execution_count": 107,
     "metadata": {},
     "output_type": "execute_result"
    }
   ],
   "source": [
    "a"
   ]
  },
  {
   "cell_type": "code",
   "execution_count": null,
   "metadata": {},
   "outputs": [],
   "source": []
  }
 ],
 "metadata": {
  "kernelspec": {
   "display_name": "Python 3.8.10 64-bit",
   "language": "python",
   "name": "python3"
  },
  "language_info": {
   "codemirror_mode": {
    "name": "ipython",
    "version": 3
   },
   "file_extension": ".py",
   "mimetype": "text/x-python",
   "name": "python",
   "nbconvert_exporter": "python",
   "pygments_lexer": "ipython3",
   "version": "3.8.10"
  },
  "orig_nbformat": 4,
  "vscode": {
   "interpreter": {
    "hash": "916dbcbb3f70747c44a77c7bcd40155683ae19c65e1c03b4aa3499c5328201f1"
   }
  }
 },
 "nbformat": 4,
 "nbformat_minor": 2
}
