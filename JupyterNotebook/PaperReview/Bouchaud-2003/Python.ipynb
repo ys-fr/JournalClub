{
 "cells": [
  {
   "cell_type": "code",
   "execution_count": 1,
   "metadata": {},
   "outputs": [],
   "source": [
    "import pandas as pd\n",
    "import os\n",
    "import numpy as np\n",
    "import matplotlib.pyplot as plt\n",
    "import seaborn as sns"
   ]
  },
  {
   "cell_type": "code",
   "execution_count": 2,
   "metadata": {},
   "outputs": [],
   "source": [
    "def binning(x,y,nbin=10,eq = True):\n",
    "    step = (np.max(x)-np.min(x))/(nbin)\n",
    "    X = []\n",
    "    Y = []\n",
    "    Yerr = []\n",
    "    tmpY = []\n",
    "    start = np.min(x)+step\n",
    "    if eq:\n",
    "        for i in range(len(x)):\n",
    "            while x[i] > start:\n",
    "                X.append(start-step/2)\n",
    "                Y.append(np.mean(tmpY))\n",
    "                #Xerr.append(np.std(tmpX,ddof=1) /np.sqrt(len(tmpX)) )\n",
    "                Yerr.append(np.std(tmpY,ddof=1) /np.sqrt(len(tmpY)) )\n",
    "                start += step\n",
    "                tmpY=[]\n",
    "                pass\n",
    "            tmpY.append(y[i])\n",
    "            pass\n",
    "        if len(tmpY)!=0:\n",
    "            X.append(start-step/2)\n",
    "            Y.append(np.mean(tmpY))\n",
    "            Yerr.append(np.std(tmpY,ddof=1) /np.sqrt(len(tmpY)) )\n",
    "        return X,Y,Yerr\n",
    "        pass\n",
    "    else:\n",
    "        tmpX = []\n",
    "        Xerr = []\n",
    "        for i in range(len(x)):\n",
    "            while x[i] > start:\n",
    "                X.append(np.mean(tmpX))\n",
    "                Y.append(np.mean(tmpY))\n",
    "                Xerr.append(np.std(tmpX,ddof=1) /np.sqrt(len(tmpX)) )\n",
    "                Yerr.append(np.std(tmpY,ddof=1) /np.sqrt(len(tmpY)) )\n",
    "                start += step\n",
    "                tmpX=[]\n",
    "                tmpY=[]\n",
    "                pass\n",
    "            tmpX.append(x[i])\n",
    "            tmpY.append(y[i])\n",
    "            pass\n",
    "        if len(tmpY)!=0:\n",
    "            X.append(np.mean(tmpX))\n",
    "            Y.append(np.mean(tmpY))\n",
    "            Xerr.append(np.std(tmpX,ddof=1) /np.sqrt(len(tmpX)) )\n",
    "            Yerr.append(np.std(tmpY,ddof=1) /np.sqrt(len(tmpY)) )\n",
    "        return X, Y, Yerr"
   ]
  },
  {
   "cell_type": "code",
   "execution_count": 3,
   "metadata": {},
   "outputs": [],
   "source": [
    "def PreProcessing(t,price):\n",
    "    T = np.zeros(len(t))\n",
    "    Price = np.zeros(len(t))\n",
    "    prev = t[0]\n",
    "    n = 0\n",
    "    for i in range(len(t)):\n",
    "        n += (prev != t[i])\n",
    "        T[n] = t[i]\n",
    "        Price[n] = price[i]\n",
    "        prev = t[i]\n",
    "        pass\n",
    "    return T[:n+1],Price[:n+1]"
   ]
  },
  {
   "cell_type": "code",
   "execution_count": 4,
   "metadata": {},
   "outputs": [],
   "source": [
    "INTC_LOB   = np.sort([\"../../Data/INTC/\"+i for i in os.listdir(\"../../Data/INTC\") if i[-8]==\"k\"])\n",
    "TSLA_LOB   = np.sort([\"../../Data/TSLA/\"+i for i in os.listdir(\"../../Data/TSLA\") if i[-8]==\"k\"])\n",
    "INTC_order = np.sort([\"../../Data/INTC/\"+i for i in os.listdir(\"../../Data/INTC\") if i[-8]!=\"k\"])\n",
    "TSLA_order = np.sort([\"../../Data/TSLA/\"+i for i in os.listdir(\"../../Data/TSLA\") if i[-8]!=\"k\"])"
   ]
  },
  {
   "cell_type": "code",
   "execution_count": null,
   "metadata": {},
   "outputs": [],
   "source": []
  },
  {
   "cell_type": "markdown",
   "metadata": {},
   "source": [
    "## 2.2 Price flactuation and diffusion\n",
    "``Here, the price $p_n$ is defined as the mid-point before n-th trade: $p_n:=m_{m^{-}}$''"
   ]
  },
  {
   "cell_type": "code",
   "execution_count": 52,
   "metadata": {},
   "outputs": [],
   "source": [
    "def GetPriceBeforeTransaction(time, record, midprice):\n",
    "    Mid = np.zeros(time.shape[0])\n",
    "    prev = time[0]\n",
    "    n = 0\n",
    "    Mid[n] = prev\n",
    "    for i,z,w in zip(midprice,record,time):\n",
    "        n +=  ((z==4 or z==5) and prev != w)\n",
    "        Mid[n] = i\n",
    "        prev = w\n",
    "        pass\n",
    "    return Mid[:n]\n",
    "    pass\n"
   ]
  },
  {
   "cell_type": "code",
   "execution_count": 119,
   "metadata": {},
   "outputs": [],
   "source": [
    "TSLAPrice = []\n",
    "for i,z in zip(TSLA_order,TSLA_LOB):\n",
    "    data = pd.read_csv(i,header=None)[[0,1]]\n",
    "    lob = pd.read_csv(z,header=None)[[0,2]]\n",
    "    data[2] = (lob[0]+lob[2])/2\n",
    "    a=GetPriceBeforeTransaction(data[0].values,data[1].values, data[2].values)\n",
    "    TSLAPrice.extend(a.tolist().copy())\n",
    "    pass\n",
    "TSLAPrice = np.array(TSLAPrice)/10000\n",
    "\n",
    "INTCPrice = []\n",
    "for i,z in zip(INTC_order,INTC_LOB):\n",
    "    data = pd.read_csv(i,header=None)[[0,1]]\n",
    "    lob = pd.read_csv(z,header=None)[[0,2]]\n",
    "    data[2] = (lob[0]+lob[2])/2\n",
    "    a=GetPriceBeforeTransaction(data[0].values,data[1].values, data[2].values)\n",
    "    INTCPrice.extend(a.tolist().copy())\n",
    "    pass\n",
    "INTCPrice = np.array(INTCPrice)/10000"
   ]
  },
  {
   "cell_type": "code",
   "execution_count": 120,
   "metadata": {},
   "outputs": [],
   "source": [
    "r = [np.mean( (INTCPrice[i:]-INTCPrice[:-i])**2 )/i for i in range(1,10001)]\n",
    "r1 = np.array(r)"
   ]
  },
  {
   "cell_type": "code",
   "execution_count": 121,
   "metadata": {},
   "outputs": [],
   "source": [
    "r = [np.mean( (TSLAPrice[i:]-TSLAPrice[:-i])**2 )/i for i in range(1,10001)]\n",
    "r2 = np.array(r)"
   ]
  },
  {
   "cell_type": "code",
   "execution_count": 122,
   "metadata": {},
   "outputs": [
    {
     "data": {
      "text/plain": [
       "(0.0049999999999954525, 0.0049999999999954525)"
      ]
     },
     "execution_count": 122,
     "metadata": {},
     "output_type": "execute_result"
    }
   ],
   "source": [
    "np.min(np.sort(np.diff(np.sort(np.unique(INTCPrice))))),np.min(np.sort(np.diff(np.sort(np.unique(TSLAPrice)))))\n",
    "\n"
   ]
  },
  {
   "cell_type": "code",
   "execution_count": 123,
   "metadata": {},
   "outputs": [
    {
     "data": {
      "text/plain": [
       "(0.006602386649134702, 0.0684439392454017)"
      ]
     },
     "execution_count": 123,
     "metadata": {},
     "output_type": "execute_result"
    }
   ],
   "source": [
    "np.sqrt(r1[0]),np.sqrt(r2[0])"
   ]
  },
  {
   "cell_type": "markdown",
   "metadata": {},
   "source": [
    "### comment\n",
    "We observed almost the same result as argued in the paper."
   ]
  },
  {
   "cell_type": "code",
   "execution_count": 124,
   "metadata": {},
   "outputs": [
    {
     "name": "stderr",
     "output_type": "stream",
     "text": [
      "/home/kz-lab-admin/anaconda3/lib/python3.9/site-packages/numpy/core/_methods.py:262: RuntimeWarning: Degrees of freedom <= 0 for slice\n",
      "  ret = _var(a, axis=axis, dtype=dtype, out=out, ddof=ddof,\n",
      "/home/kz-lab-admin/anaconda3/lib/python3.9/site-packages/numpy/core/_methods.py:254: RuntimeWarning: invalid value encountered in double_scalars\n",
      "  ret = ret.dtype.type(ret / rcount)\n",
      "/home/kz-lab-admin/anaconda3/lib/python3.9/site-packages/numpy/core/_methods.py:262: RuntimeWarning: Degrees of freedom <= 0 for slice\n",
      "  ret = _var(a, axis=axis, dtype=dtype, out=out, ddof=ddof,\n",
      "/home/kz-lab-admin/anaconda3/lib/python3.9/site-packages/numpy/core/_methods.py:254: RuntimeWarning: invalid value encountered in double_scalars\n",
      "  ret = ret.dtype.type(ret / rcount)\n"
     ]
    },
    {
     "data": {
      "image/png": "[encoded data removed]",
      "text/plain": [
       "<Figure size 432x288 with 1 Axes>"
      ]
     },
     "metadata": {
      "needs_background": "light"
     },
     "output_type": "display_data"
    }
   ],
   "source": [
    "\n",
    "#plt.scatter(t[:10000], sq_r1/sq_r1[0])\n",
    "x,y,yerr = binning(np.log10(t[:10000]),sq_r1,20)\n",
    "plt.errorbar(10**np.array(x), y, yerr =yerr ,color=\"red\",marker=\"v\")\n",
    "#plt.scatter(t[:10000], sq_r2/sq_r2[0])\n",
    "x,y,yerr = binning(np.log10(t[:10000]),sq_r2,20)\n",
    "plt.errorbar(10**np.array(x), y, yerr =yerr ,color=\"black\",marker=\"D\")\n",
    "\n",
    "#plt.yscale(\"log\")\n",
    "plt.xscale(\"log\")\n"
   ]
  },
  {
   "cell_type": "markdown",
   "metadata": {},
   "source": [
    "## Response function and market impact\n",
    "Response function of transaction can be defined as\n",
    "$$\n",
    "R(l) := \\left\\langle \\left( p(l+t) -p(t)\\right)\\epsilon(t) \\right\\rangle\n",
    "$$"
   ]
  },
  {
   "cell_type": "code",
   "execution_count": 199,
   "metadata": {},
   "outputs": [],
   "source": [
    "def ResponseFunction(time, record, midprice, sign):\n",
    "    Mid = np.zeros(time.shape[0])\n",
    "    Sign = np.zeros(time.shape[0])\n",
    "    prev = 0\n",
    "    n = 0\n",
    "    Mid[n] = midprice[n]\n",
    "    for i,z,w,s in zip(midprice,record,time,sign):\n",
    "        Sign[n] += s*((z==4 or z==5) and prev != w)\n",
    "        n +=  ((z==4 or z==5) and prev != w)\n",
    "        Mid[n] = i\n",
    "        prev = w\n",
    "        pass\n",
    "    return Mid[:n],-Sign[:n]\n",
    "    pass"
   ]
  },
  {
   "cell_type": "code",
   "execution_count": 200,
   "metadata": {},
   "outputs": [],
   "source": [
    "TSLAPrice = []\n",
    "TSLASign = []\n",
    "for i,z in zip(TSLA_order,TSLA_LOB):\n",
    "    data = pd.read_csv(i,header=None)[[0,1,5]]\n",
    "    lob = pd.read_csv(z,header=None)[[0,2]]\n",
    "    data[2] = (lob[0]+lob[2])/2\n",
    "    a,b=ResponseFunction(data[0].values,data[1].values, data[2].values,data[5].values)\n",
    "    TSLAPrice.extend(a.tolist().copy())\n",
    "    TSLASign.extend(b.tolist().copy())\n",
    "#    break\n",
    "    pass\n",
    "TSLAPrice = np.array(TSLAPrice)/10000\n",
    "TSLASign = np.array(TSLASign)"
   ]
  },
  {
   "cell_type": "code",
   "execution_count": 201,
   "metadata": {},
   "outputs": [],
   "source": [
    "r = [np.mean( (TSLAPrice[i:]-TSLAPrice[:-i])*TSLASign[:-i] ) for i in range(1,10001)]\n",
    "r2 = np.array(r)\n",
    "t = np.arange(1,10001,1)"
   ]
  },
  {
   "cell_type": "code",
   "execution_count": 202,
   "metadata": {},
   "outputs": [
    {
     "name": "stderr",
     "output_type": "stream",
     "text": [
      "/home/kz-lab-admin/anaconda3/lib/python3.9/site-packages/numpy/core/_methods.py:262: RuntimeWarning: Degrees of freedom <= 0 for slice\n",
      "  ret = _var(a, axis=axis, dtype=dtype, out=out, ddof=ddof,\n",
      "/home/kz-lab-admin/anaconda3/lib/python3.9/site-packages/numpy/core/_methods.py:254: RuntimeWarning: invalid value encountered in double_scalars\n",
      "  ret = ret.dtype.type(ret / rcount)\n"
     ]
    },
    {
     "data": {
      "image/png": "[encoded data removed]",
      "text/plain": [
       "<Figure size 432x288 with 1 Axes>"
      ]
     },
     "metadata": {
      "needs_background": "light"
     },
     "output_type": "display_data"
    }
   ],
   "source": [
    "\n",
    "x,y,yerr = binning(np.log10(t),r2,15)\n",
    "plt.errorbar(10**np.array(x), y, yerr =yerr ,color=\"red\",marker=\"v\")\n",
    "plt.xscale(\"log\")\n"
   ]
  },
  {
   "cell_type": "code",
   "execution_count": 203,
   "metadata": {},
   "outputs": [
    {
     "data": {
      "text/plain": [
       "222.775"
      ]
     },
     "execution_count": 203,
     "metadata": {},
     "output_type": "execute_result"
    }
   ],
   "source": [
    "TSLAPrice[0]"
   ]
  },
  {
   "cell_type": "code",
   "execution_count": 204,
   "metadata": {},
   "outputs": [
    {
     "data": {
      "text/plain": [
       "array([2038850., 2038850., 2038850., 2036500., 2036500., 2035100.,\n",
       "       2037300., 2035100., 2037350., 2037350., 2037350., 2037350.,\n",
       "       2037350., 2037350., 2037350., 2037350., 2037250., 2037450.,\n",
       "       2037500., 2037450., 2037450., 2037350., 2037350., 2037400.,\n",
       "       2036350., 2037400., 2036300., 2036300., 2037050., 2037050.,\n",
       "       2037050., 2037050., 2037050., 2037200., 2037600., 2037600.,\n",
       "       2037700., 2037700., 2036850., 2036850., 2036850., 2036850.,\n",
       "       2036850., 2036850., 2036850., 2036350., 2036350., 2036300.,\n",
       "       2034600., 2034600., 2034000., 2033900., 2033900., 2033900.,\n",
       "       2033900., 2035200., 2035200., 2035200., 2035200., 2033650.,\n",
       "       2033650., 2033650., 2033700., 2034250., 2037750., 2037750.,\n",
       "       2039500., 2039500., 2039500., 2037750., 2037750., 2037750.,\n",
       "       2038500., 2038600., 2038250., 2038200., 2034450., 2034450.,\n",
       "       2034450., 2036050., 2036850., 2036850., 2037150., 2036150.,\n",
       "       2036150., 2036150., 2036250., 2036250., 2036500., 2036500.,\n",
       "       2039250., 2041650., 2041650., 2042950., 2042950., 2043250.,\n",
       "       2043250., 2043250., 2043250., 2045700.])"
      ]
     },
     "execution_count": 204,
     "metadata": {},
     "output_type": "execute_result"
    }
   ],
   "source": [
    "a[:100]"
   ]
  },
  {
   "cell_type": "code",
   "execution_count": 212,
   "metadata": {},
   "outputs": [],
   "source": [
    "i = 128\n",
    "a = (TSLAPrice[i:]-TSLAPrice[:-i])*TSLASign[:-i]\n"
   ]
  },
  {
   "cell_type": "code",
   "execution_count": 248,
   "metadata": {},
   "outputs": [
    {
     "data": {
      "text/plain": [
       "101866"
      ]
     },
     "execution_count": 248,
     "metadata": {},
     "output_type": "execute_result"
    }
   ],
   "source": [
    "p1 = int(len(a[a>0])*0.01)\n",
    "x = np.sort(a)[:-p1]\n",
    "p1 = int(len(a[a>0])*0.01)\n",
    "x = np.sort(a)[:-p1]"
   ]
  },
  {
   "cell_type": "code",
   "execution_count": 263,
   "metadata": {},
   "outputs": [
    {
     "data": {
      "image/png": "[encoded data removed]",
      "text/plain": [
       "<Figure size 432x288 with 1 Axes>"
      ]
     },
     "metadata": {
      "needs_background": "light"
     },
     "output_type": "display_data"
    }
   ],
   "source": [
    "p1 = int(len(a[a>0])*0.002)\n",
    "x = np.sort(a[a>0])[:-p1]\n",
    "sns.ecdfplot(x,complementary=True)\n",
    "p1 = int(len(a[a<0])*0.002)\n",
    "x = np.sort(-a[a<0])[:-p1]\n",
    "sns.ecdfplot(x,complementary=True)\n",
    "plt.yscale(\"log\")\n",
    "#plt.xscale(\"log\")\n",
    "plt.show()\n"
   ]
  },
  {
   "cell_type": "code",
   "execution_count": 246,
   "metadata": {},
   "outputs": [
    {
     "data": {
      "text/plain": [
       "array([1.8505e+01, 1.8450e+01, 1.8450e+01, ..., 5.0000e-03, 5.0000e-03,\n",
       "       5.0000e-03])"
      ]
     },
     "execution_count": 246,
     "metadata": {},
     "output_type": "execute_result"
    }
   ],
   "source": [
    "(-np.sort(a[a<0]))"
   ]
  },
  {
   "cell_type": "code",
   "execution_count": null,
   "metadata": {},
   "outputs": [],
   "source": []
  }
 ],
 "metadata": {
  "kernelspec": {
   "display_name": "Python 3.9.12 ('base')",
   "language": "python",
   "name": "python3"
  },
  "language_info": {
   "codemirror_mode": {
    "name": "ipython",
    "version": 3
   },
   "file_extension": ".py",
   "mimetype": "text/x-python",
   "name": "python",
   "nbconvert_exporter": "python",
   "pygments_lexer": "ipython3",
   "version": "3.9.12"
  },
  "orig_nbformat": 4,
  "vscode": {
   "interpreter": {
    "hash": "4a0e09ffcbf53386dcc5d6a833f3321eeea672b74dbc5f74f87aacfc29c59e6e"
   }
  }
 },
 "nbformat": 4,
 "nbformat_minor": 2
}
