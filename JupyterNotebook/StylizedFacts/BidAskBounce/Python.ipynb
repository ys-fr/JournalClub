{
 "cells": [
  {
   "cell_type": "markdown",
   "metadata": {},
   "source": [
    "# A code example: The long memory property of order flow"
   ]
  },
  {
   "cell_type": "code",
   "execution_count": 1,
   "metadata": {},
   "outputs": [],
   "source": [
    "import pandas as pd\n",
    "import os\n",
    "import numpy as np\n",
    "import matplotlib.pyplot as plt\n",
    "import seaborn as sns\n"
   ]
  },
  {
   "cell_type": "code",
   "execution_count": 2,
   "metadata": {},
   "outputs": [],
   "source": [
    "def binning(x,y,nbin=10,eq = True):\n",
    "    step = (np.max(x)-np.min(x))/(nbin)\n",
    "    X = []\n",
    "    Y = []\n",
    "    Yerr = []\n",
    "    tmpY = []\n",
    "    start = np.min(x)+step\n",
    "    if eq:\n",
    "        for i in range(len(x)):\n",
    "            while x[i] > start:\n",
    "                X.append(start-step/2)\n",
    "                Y.append(np.mean(tmpY))\n",
    "                #Xerr.append(np.std(tmpX,ddof=1) /np.sqrt(len(tmpX)) )\n",
    "                Yerr.append(np.std(tmpY,ddof=1) /np.sqrt(len(tmpY)) )\n",
    "                start += step\n",
    "                tmpY=[]\n",
    "                pass\n",
    "            tmpY.append(y[i])\n",
    "            pass\n",
    "        if len(tmpY)!=0:\n",
    "            X.append(start-step/2)\n",
    "            Y.append(np.mean(tmpY))\n",
    "            Yerr.append(np.std(tmpY,ddof=1) /np.sqrt(len(tmpY)) )\n",
    "        return X,Y,Yerr\n",
    "        pass\n",
    "    else:\n",
    "        tmpX = []\n",
    "        Xerr = []\n",
    "        for i in range(len(x)):\n",
    "            while x[i] > start:\n",
    "                X.append(np.mean(tmpX))\n",
    "                Y.append(np.mean(tmpY))\n",
    "                Xerr.append(np.std(tmpX,ddof=1) /np.sqrt(len(tmpX)) )\n",
    "                Yerr.append(np.std(tmpY,ddof=1) /np.sqrt(len(tmpY)) )\n",
    "                start += step\n",
    "                tmpX=[]\n",
    "                tmpY=[]\n",
    "                pass\n",
    "            tmpX.append(x[i])\n",
    "            tmpY.append(y[i])\n",
    "            pass\n",
    "        if len(tmpY)!=0:\n",
    "            X.append(np.mean(tmpX))\n",
    "            Y.append(np.mean(tmpY))\n",
    "            Xerr.append(np.std(tmpX,ddof=1) /np.sqrt(len(tmpX)) )\n",
    "            Yerr.append(np.std(tmpY,ddof=1) /np.sqrt(len(tmpY)) )\n",
    "        return X, Y, Yerr"
   ]
  },
  {
   "cell_type": "code",
   "execution_count": 5,
   "metadata": {},
   "outputs": [],
   "source": [
    "def PreProcessing(t,price):\n",
    "    T = np.zeros(len(t))\n",
    "    Price = np.zeros(len(t))\n",
    "    prev = t[0]\n",
    "    n = 0\n",
    "    for i in range(len(t)):\n",
    "        n += (prev != t[i])\n",
    "        T[n] = t[i]\n",
    "        Price[n] = price[i]\n",
    "        prev = t[i]\n",
    "        pass\n",
    "    return T[:n+1],Price[:n+1]"
   ]
  },
  {
   "cell_type": "code",
   "execution_count": 4,
   "metadata": {},
   "outputs": [],
   "source": [
    "INTC_LOB   = np.sort([\"../../Data/INTC/\"+i for i in os.listdir(\"../../Data/INTC\") if i[-8]==\"k\"])\n",
    "TSLA_LOB   = np.sort([\"../../Data/TSLA/\"+i for i in os.listdir(\"../../Data/TSLA\") if i[-8]==\"k\"])\n",
    "INTC_order = np.sort([\"../../Data/INTC/\"+i for i in os.listdir(\"../../Data/INTC\") if i[-8]!=\"k\"])\n",
    "TSLA_order = np.sort([\"../../Data/TSLA/\"+i for i in os.listdir(\"../../Data/TSLA\") if i[-8]!=\"k\"])"
   ]
  },
  {
   "cell_type": "code",
   "execution_count": 9,
   "metadata": {},
   "outputs": [],
   "source": [
    "#TSLAPrice = []\n",
    "for i,z in zip(TSLA_order,TSLA_LOB):\n",
    "    data = pd.read_csv(i,header=None)[[0]]\n",
    "    lob = pd.read_csv(z,header=None)[[0,2]]\n",
    "    data[1] = (lob[0]+lob[2])/2\n",
    "    a,b=PreProcessing(data[0].values,data[1].values)\n",
    "    break\n",
    "    #TSLASize.extend(data.tolist().copy())\n",
    "    pass\n"
   ]
  },
  {
   "cell_type": "code",
   "execution_count": 18,
   "metadata": {},
   "outputs": [],
   "source": [
    "def AggPriceChange(p):\n",
    "    result = np.zeros(len(p))\n",
    "    prev = p[0]\n",
    "    n = 0\n",
    "    for i in p:\n",
    "        n += (prev!=i)\n",
    "        result[n] = i\n",
    "        pass\n",
    "    return result[:n+1]"
   ]
  },
  {
   "cell_type": "code",
   "execution_count": 19,
   "metadata": {},
   "outputs": [],
   "source": [
    "r = AggPriceChange(b)\n"
   ]
  },
  {
   "cell_type": "code",
   "execution_count": 21,
   "metadata": {},
   "outputs": [],
   "source": [
    "import statsmodels.tsa.api as ts"
   ]
  },
  {
   "cell_type": "code",
   "execution_count": 25,
   "metadata": {},
   "outputs": [
    {
     "data": {
      "image/png": "[encoded data removed]",
      "text/plain": [
       "<Figure size 360x360 with 1 Axes>"
      ]
     },
     "metadata": {
      "needs_background": "light"
     },
     "output_type": "display_data"
    }
   ],
   "source": [
    "fig,(ax1) = plt.subplots(1,1,figsize=(5,5),tight_layout=True)\n",
    "ax1.plot(ts.acf(np.diff(r)))\n",
    "\n",
    "#ax1.set_title(\"TSLA\",fontsize=15)\n",
    "ax1.set_xlabel(r\"$\\tau$\",fontsize=15)\n",
    "ax1.set_ylabel(r\"$C(\\tau)$\",fontsize=15)\n",
    "plt.savefig(\"BidAskBounce.png\")\n",
    "plt.savefig(\"../../../docs/CodeExample/StylizedFacts/BidAskBounce.png\")\n"
   ]
  },
  {
   "cell_type": "code",
   "execution_count": null,
   "metadata": {},
   "outputs": [],
   "source": []
  }
 ],
 "metadata": {
  "kernelspec": {
   "display_name": "Python 3.7.7 ('base')",
   "language": "python",
   "name": "python3"
  },
  "language_info": {
   "codemirror_mode": {
    "name": "ipython",
    "version": 3
   },
   "file_extension": ".py",
   "mimetype": "text/x-python",
   "name": "python",
   "nbconvert_exporter": "python",
   "pygments_lexer": "ipython3",
   "version": "3.7.7"
  },
  "orig_nbformat": 4,
  "vscode": {
   "interpreter": {
    "hash": "86e4b57842a5211036472f9c1c09855ba856c5840f193d7b15b5b7ba596804e2"
   }
  }
 },
 "nbformat": 4,
 "nbformat_minor": 2
}
