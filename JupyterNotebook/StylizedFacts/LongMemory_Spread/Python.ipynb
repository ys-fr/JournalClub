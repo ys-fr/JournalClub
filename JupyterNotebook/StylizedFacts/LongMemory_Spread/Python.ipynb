{
 "cells": [
  {
   "cell_type": "markdown",
   "metadata": {},
   "source": [
    "# A code example: The intraday seasonality of the spread"
   ]
  },
  {
   "cell_type": "code",
   "execution_count": 1,
   "metadata": {},
   "outputs": [],
   "source": [
    "import pandas as pd\n",
    "import os\n",
    "import numpy as np\n",
    "import matplotlib.pyplot as plt\n",
    "import seaborn as sns\n"
   ]
  },
  {
   "cell_type": "code",
   "execution_count": 2,
   "metadata": {},
   "outputs": [],
   "source": [
    "def binning(x,y,nbin=10,eq = True):\n",
    "    step = (np.max(x)-np.min(x))/(nbin)\n",
    "    X = []\n",
    "    Y = []\n",
    "    Yerr = []\n",
    "    tmpY = []\n",
    "    start = np.min(x)+step\n",
    "    if eq:\n",
    "        for i in range(len(x)):\n",
    "            while x[i] > start:\n",
    "                X.append(start-step/2)\n",
    "                Y.append(np.mean(tmpY))\n",
    "                #Xerr.append(np.std(tmpX,ddof=1) /np.sqrt(len(tmpX)) )\n",
    "                Yerr.append(np.std(tmpY,ddof=1) /np.sqrt(len(tmpY)) )\n",
    "                start += step\n",
    "                tmpY=[]\n",
    "                pass\n",
    "            tmpY.append(y[i])\n",
    "            pass\n",
    "        if len(tmpY)!=0:\n",
    "            X.append(start-step/2)\n",
    "            Y.append(np.mean(tmpY))\n",
    "            Yerr.append(np.std(tmpY,ddof=1) /np.sqrt(len(tmpY)) )\n",
    "        return X,Y,Yerr\n",
    "        pass\n",
    "    else:\n",
    "        tmpX = []\n",
    "        Xerr = []\n",
    "        for i in range(len(x)):\n",
    "            while x[i] > start:\n",
    "                X.append(np.mean(tmpX))\n",
    "                Y.append(np.mean(tmpY))\n",
    "                Xerr.append(np.std(tmpX,ddof=1) /np.sqrt(len(tmpX)) )\n",
    "                Yerr.append(np.std(tmpY,ddof=1) /np.sqrt(len(tmpY)) )\n",
    "                start += step\n",
    "                tmpX=[]\n",
    "                tmpY=[]\n",
    "                pass\n",
    "            tmpX.append(x[i])\n",
    "            tmpY.append(y[i])\n",
    "            pass\n",
    "        if len(tmpY)!=0:\n",
    "            X.append(np.mean(tmpX))\n",
    "            Y.append(np.mean(tmpY))\n",
    "            Xerr.append(np.std(tmpX,ddof=1) /np.sqrt(len(tmpX)) )\n",
    "            Yerr.append(np.std(tmpY,ddof=1) /np.sqrt(len(tmpY)) )\n",
    "        return X, Y, Yerr"
   ]
  },
  {
   "cell_type": "code",
   "execution_count": 3,
   "metadata": {},
   "outputs": [],
   "source": [
    "def PreProcessing(t,spread):\n",
    "    T = np.zeros(len(t))\n",
    "    Spread = np.zeros(len(t))\n",
    "    prev = t[0]\n",
    "    n = 0\n",
    "    for i in range(len(t)):\n",
    "        n += (prev != t[i])\n",
    "        T[n] = t[i]\n",
    "        Spread[n] = spread[i]\n",
    "        prev = t[i]\n",
    "        pass\n",
    "    return T[:n+1],Spread[:n+1]"
   ]
  },
  {
   "cell_type": "code",
   "execution_count": 4,
   "metadata": {},
   "outputs": [],
   "source": [
    "def TimeMean(t, y, prev, start, end):\n",
    "    T = np.diff(t)\n",
    "    Y = np.sum(y[1:]*T) + (end-t[-1])*y[-1] + (t[0]-start)*prev\n",
    "    return Y/(end-start)\n",
    "\n",
    "def IntradaySeasonality_Spread(t,spread, start=34200 , end= 57600 ,step = 60):\n",
    "    t = np.array(t)\n",
    "    spread = np.array(spread)\n",
    "    T = np.arange(start,end+step,step)\n",
    "    prev = spread[0]\n",
    "    result_S = np.zeros(len(T)-1)\n",
    "    for i in range(len(T)-1):\n",
    "        use = ((T[i]<=t) & (t<T[i+1]))\n",
    "        tmp_t = t[use]\n",
    "        tmp_s = spread[use]\n",
    "        result_S[i] = TimeMean(tmp_t, tmp_s, prev, T[i], T[i+1])\n",
    "        prev = tmp_s[-1]\n",
    "        pass\n",
    "    \n",
    "    return T[1:] -step/2, result_S"
   ]
  },
  {
   "cell_type": "code",
   "execution_count": 13,
   "metadata": {},
   "outputs": [],
   "source": [
    "def TimeMean(t, y, prev, start, end):\n",
    "    T = np.diff(t)\n",
    "    Y = np.sum(y[1:]*T) + (end-t[-1])*y[-1] + (t[0]-start)*prev\n",
    "    return Y/(end-start)\n",
    "\n",
    "def IntradaySeasonality_Spread(t,spread, start=34200 , end= 57600 ,step = 60):\n",
    "    t = np.array(t)\n",
    "    spread = np.array(spread)\n",
    "    T = np.arange(start,end+step,step)\n",
    "    prev = spread[0]\n",
    "    result_S = np.zeros(len(T)-1)\n",
    "    for i in range(len(T)-1):\n",
    "        use = ((T[i]<=t) & (t<T[i+1]))\n",
    "        tmp_t = t[use]\n",
    "        tmp_s = spread[use]\n",
    "        if len(tmp_t)>0:\n",
    "            result_S[i] = TimeMean(tmp_t, tmp_s, prev, T[i], T[i+1])\n",
    "            prev = tmp_s[-1]\n",
    "            pass\n",
    "        else:\n",
    "            result_S[i] = result_S[i-1]\n",
    "            #prev = tmp_s[i-1]\n",
    "        pass\n",
    "    \n",
    "    return T[1:] -step/2, result_S"
   ]
  },
  {
   "cell_type": "code",
   "execution_count": 6,
   "metadata": {},
   "outputs": [],
   "source": [
    "INTC_LOB   = np.sort([\"../../Data/INTC/\"+i for i in os.listdir(\"../../Data/INTC\") if i[-8]==\"k\"])\n",
    "TSLA_LOB   = np.sort([\"../../Data/TSLA/\"+i for i in os.listdir(\"../../Data/TSLA\") if i[-8]==\"k\"])\n",
    "INTC_order = np.sort([\"../../Data/INTC/\"+i for i in os.listdir(\"../../Data/INTC\") if i[-8]!=\"k\"])\n",
    "TSLA_order = np.sort([\"../../Data/TSLA/\"+i for i in os.listdir(\"../../Data/TSLA\") if i[-8]!=\"k\"])"
   ]
  },
  {
   "cell_type": "code",
   "execution_count": 14,
   "metadata": {},
   "outputs": [],
   "source": [
    "TSLA_t,TSLA_y = [[] for i in range(len(TSLA_order))],[[] for i in range(len(TSLA_order))]\n",
    "n = 0\n",
    "for i,z in zip(TSLA_order,TSLA_LOB):\n",
    "    data = pd.read_csv(i,header=None)[0]\n",
    "    lob = pd.read_csv(z,header=None)[[0,2]]\n",
    "    spread = lob[0]-lob[2]\n",
    "    a,b = PreProcessing(data.values,spread.values)\n",
    "    a,b = IntradaySeasonality_Spread(a,b, start=34200 , end= 57600 ,step = 1)\n",
    "    TSLA_t[n] = a.copy()\n",
    "    TSLA_y[n] = b.copy()\n",
    "    n+=1\n",
    "    pass\n"
   ]
  },
  {
   "cell_type": "code",
   "execution_count": 23,
   "metadata": {},
   "outputs": [],
   "source": [
    "import statsmodels.tsa.api as ts"
   ]
  },
  {
   "cell_type": "code",
   "execution_count": 41,
   "metadata": {},
   "outputs": [],
   "source": [
    "acf = [ts.acf(i,nlags=1000,) for i in TSLA_y]\n",
    "acf = np.array(acf)\n",
    "t = np.arange(1,1001)\n"
   ]
  },
  {
   "cell_type": "code",
   "execution_count": 46,
   "metadata": {},
   "outputs": [
    {
     "data": {
      "image/png": "[encoded data removed]",
      "text/plain": [
       "<Figure size 360x360 with 1 Axes>"
      ]
     },
     "metadata": {
      "needs_background": "light"
     },
     "output_type": "display_data"
    }
   ],
   "source": [
    "fig,ax = plt.subplots(figsize=(5,5))\n",
    "ax.errorbar(t,[np.mean(acf[:,i+1]) for i in range(0,1000,1)], yerr = [np.std(acf[:,i+1],ddof=1)/np.sqrt(20) for i in range(0,1000,1)])\n",
    "ax.set_yscale(\"log\")\n",
    "ax.set_xscale(\"log\")\n",
    "ax.set_xlabel(r\"$\\tau$ (sec)\",fontsize=15)\n",
    "ax.set_ylabel(r\"$C(\\tau)$\",fontsize=15)\n",
    "ax.set_title(\"Long memory of the spread\",fontsize=15)\n",
    "plt.savefig(\"LongMemory_spread.png\")\n",
    "plt.savefig(\"../../../docs/CodeExample/StylizedFacts/LongMemory_spread.png\")"
   ]
  },
  {
   "cell_type": "code",
   "execution_count": null,
   "metadata": {},
   "outputs": [],
   "source": []
  }
 ],
 "metadata": {
  "kernelspec": {
   "display_name": "Python 3.7.7 ('base')",
   "language": "python",
   "name": "python3"
  },
  "language_info": {
   "codemirror_mode": {
    "name": "ipython",
    "version": 3
   },
   "file_extension": ".py",
   "mimetype": "text/x-python",
   "name": "python",
   "nbconvert_exporter": "python",
   "pygments_lexer": "ipython3",
   "version": "3.7.7"
  },
  "orig_nbformat": 4,
  "vscode": {
   "interpreter": {
    "hash": "86e4b57842a5211036472f9c1c09855ba856c5840f193d7b15b5b7ba596804e2"
   }
  }
 },
 "nbformat": 4,
 "nbformat_minor": 2
}
