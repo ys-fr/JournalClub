{
 "cells": [
  {
   "cell_type": "markdown",
   "metadata": {},
   "source": [
    "# A code example: The distribution order placement"
   ]
  },
  {
   "cell_type": "code",
   "execution_count": 3,
   "metadata": {},
   "outputs": [],
   "source": [
    "import pandas as pd\n",
    "import os\n",
    "import numpy as np\n",
    "import matplotlib.pyplot as plt\n",
    "import seaborn as sns\n",
    "INTC_LOB   = np.sort([\"../../Data/INTC/\"+i for i in os.listdir(\"../../Data/INTC\") if i[-8]==\"k\"])\n",
    "TSLA_LOB   = np.sort([\"../../Data/TSLA/\"+i for i in os.listdir(\"../../Data/TSLA\") if i[-8]==\"k\"])\n",
    "INTC_order = np.sort([\"../../Data/INTC/\"+i for i in os.listdir(\"../../Data/INTC\") if i[-8]!=\"k\"])\n",
    "TSLA_order = np.sort([\"../../Data/TSLA/\"+i for i in os.listdir(\"../../Data/TSLA\") if i[-8]!=\"k\"])"
   ]
  },
  {
   "cell_type": "code",
   "execution_count": 2,
   "metadata": {},
   "outputs": [],
   "source": [
    "def binning(x,y,nbin=10,eq = True):\n",
    "    step = (np.max(x)-np.min(x))/(nbin)\n",
    "    X = []\n",
    "    Y = []\n",
    "    Yerr = []\n",
    "    tmpY = []\n",
    "    start = np.min(x)+step\n",
    "    if eq:\n",
    "        for i in range(len(x)):\n",
    "            while x[i] > start:\n",
    "                X.append(start-step/2)\n",
    "                Y.append(np.mean(tmpY))\n",
    "                #Xerr.append(np.std(tmpX,ddof=1) /np.sqrt(len(tmpX)) )\n",
    "                Yerr.append(np.std(tmpY,ddof=1) /np.sqrt(len(tmpY)) )\n",
    "                start += step\n",
    "                tmpY=[]\n",
    "                pass\n",
    "            tmpY.append(y[i])\n",
    "            pass\n",
    "        if len(tmpY)!=0:\n",
    "            X.append(start-step/2)\n",
    "            Y.append(np.mean(tmpY))\n",
    "            Yerr.append(np.std(tmpY,ddof=1) /np.sqrt(len(tmpY)) )\n",
    "        return X,Y,Yerr\n",
    "        pass\n",
    "    else:\n",
    "        tmpX = []\n",
    "        Xerr = []\n",
    "        for i in range(len(x)):\n",
    "            while x[i] > start:\n",
    "                X.append(np.mean(tmpX))\n",
    "                Y.append(np.mean(tmpY))\n",
    "                Xerr.append(np.std(tmpX,ddof=1) /np.sqrt(len(tmpX)) )\n",
    "                Yerr.append(np.std(tmpY,ddof=1) /np.sqrt(len(tmpY)) )\n",
    "                start += step\n",
    "                tmpX=[]\n",
    "                tmpY=[]\n",
    "                pass\n",
    "            tmpX.append(x[i])\n",
    "            tmpY.append(y[i])\n",
    "            pass\n",
    "        if len(tmpY)!=0:\n",
    "            X.append(np.mean(tmpX))\n",
    "            Y.append(np.mean(tmpY))\n",
    "            Xerr.append(np.std(tmpX,ddof=1) /np.sqrt(len(tmpX)) )\n",
    "            Yerr.append(np.std(tmpY,ddof=1) /np.sqrt(len(tmpY)) )\n",
    "        return X, Y, Yerr"
   ]
  },
  {
   "cell_type": "code",
   "execution_count": 15,
   "metadata": {},
   "outputs": [],
   "source": [
    "def PreProcessing(t,sign,price, sell, buy):\n",
    "    T = np.zeros(len(t))\n",
    "    RelPrice = np.zeros(len(t))\n",
    "    for i in range(len(t)):\n",
    "        #if buy\n",
    "        if sign[i] == 1:\n",
    "            RelPrice[i] = sell[i] - price[i]\n",
    "            pass\n",
    "        #if sell\n",
    "        else:\n",
    "            RelPrice[i] = price[i] - buy[i]\n",
    "            pass\n",
    "        pass\n",
    "    return RelPrice"
   ]
  },
  {
   "cell_type": "code",
   "execution_count": 11,
   "metadata": {},
   "outputs": [
    {
     "data": {
      "text/html": [
       "<div>\n",
       "<style scoped>\n",
       "    .dataframe tbody tr th:only-of-type {\n",
       "        vertical-align: middle;\n",
       "    }\n",
       "\n",
       "    .dataframe tbody tr th {\n",
       "        vertical-align: top;\n",
       "    }\n",
       "\n",
       "    .dataframe thead th {\n",
       "        text-align: right;\n",
       "    }\n",
       "</style>\n",
       "<table border=\"1\" class=\"dataframe\">\n",
       "  <thead>\n",
       "    <tr style=\"text-align: right;\">\n",
       "      <th></th>\n",
       "      <th>0</th>\n",
       "      <th>1</th>\n",
       "      <th>2</th>\n",
       "      <th>3</th>\n",
       "      <th>4</th>\n",
       "      <th>5</th>\n",
       "      <th>6</th>\n",
       "      <th>7</th>\n",
       "    </tr>\n",
       "  </thead>\n",
       "  <tbody>\n",
       "    <tr>\n",
       "      <th>0</th>\n",
       "      <td>34200.006789</td>\n",
       "      <td>5</td>\n",
       "      <td>0</td>\n",
       "      <td>13</td>\n",
       "      <td>2228300</td>\n",
       "      <td>1</td>\n",
       "      <td>2229100</td>\n",
       "      <td>2226400</td>\n",
       "    </tr>\n",
       "    <tr>\n",
       "      <th>1</th>\n",
       "      <td>34200.034290</td>\n",
       "      <td>6</td>\n",
       "      <td>-1</td>\n",
       "      <td>17011</td>\n",
       "      <td>2228700</td>\n",
       "      <td>-1</td>\n",
       "      <td>2229100</td>\n",
       "      <td>2226400</td>\n",
       "    </tr>\n",
       "    <tr>\n",
       "      <th>2</th>\n",
       "      <td>34200.034290</td>\n",
       "      <td>1</td>\n",
       "      <td>5519048</td>\n",
       "      <td>11</td>\n",
       "      <td>2227500</td>\n",
       "      <td>1</td>\n",
       "      <td>2229100</td>\n",
       "      <td>2227500</td>\n",
       "    </tr>\n",
       "    <tr>\n",
       "      <th>3</th>\n",
       "      <td>34200.034290</td>\n",
       "      <td>1</td>\n",
       "      <td>2142274</td>\n",
       "      <td>10</td>\n",
       "      <td>2230000</td>\n",
       "      <td>-1</td>\n",
       "      <td>2229100</td>\n",
       "      <td>2227500</td>\n",
       "    </tr>\n",
       "    <tr>\n",
       "      <th>4</th>\n",
       "      <td>34200.034290</td>\n",
       "      <td>1</td>\n",
       "      <td>2629509</td>\n",
       "      <td>200</td>\n",
       "      <td>2226000</td>\n",
       "      <td>1</td>\n",
       "      <td>2229100</td>\n",
       "      <td>2227500</td>\n",
       "    </tr>\n",
       "    <tr>\n",
       "      <th>...</th>\n",
       "      <td>...</td>\n",
       "      <td>...</td>\n",
       "      <td>...</td>\n",
       "      <td>...</td>\n",
       "      <td>...</td>\n",
       "      <td>...</td>\n",
       "      <td>...</td>\n",
       "      <td>...</td>\n",
       "    </tr>\n",
       "    <tr>\n",
       "      <th>216706</th>\n",
       "      <td>57599.977910</td>\n",
       "      <td>4</td>\n",
       "      <td>267961846</td>\n",
       "      <td>39</td>\n",
       "      <td>2193100</td>\n",
       "      <td>-1</td>\n",
       "      <td>2193100</td>\n",
       "      <td>2191900</td>\n",
       "    </tr>\n",
       "    <tr>\n",
       "      <th>216707</th>\n",
       "      <td>57599.977910</td>\n",
       "      <td>4</td>\n",
       "      <td>267963915</td>\n",
       "      <td>61</td>\n",
       "      <td>2193100</td>\n",
       "      <td>-1</td>\n",
       "      <td>2193100</td>\n",
       "      <td>2191900</td>\n",
       "    </tr>\n",
       "    <tr>\n",
       "      <th>216708</th>\n",
       "      <td>57599.977975</td>\n",
       "      <td>1</td>\n",
       "      <td>267983787</td>\n",
       "      <td>100</td>\n",
       "      <td>2191900</td>\n",
       "      <td>1</td>\n",
       "      <td>2193100</td>\n",
       "      <td>2191900</td>\n",
       "    </tr>\n",
       "    <tr>\n",
       "      <th>216709</th>\n",
       "      <td>57599.978001</td>\n",
       "      <td>3</td>\n",
       "      <td>267981940</td>\n",
       "      <td>100</td>\n",
       "      <td>2193100</td>\n",
       "      <td>-1</td>\n",
       "      <td>2193100</td>\n",
       "      <td>2191900</td>\n",
       "    </tr>\n",
       "    <tr>\n",
       "      <th>216710</th>\n",
       "      <td>57599.978001</td>\n",
       "      <td>1</td>\n",
       "      <td>267983788</td>\n",
       "      <td>100</td>\n",
       "      <td>2193200</td>\n",
       "      <td>-1</td>\n",
       "      <td>2193100</td>\n",
       "      <td>2191900</td>\n",
       "    </tr>\n",
       "  </tbody>\n",
       "</table>\n",
       "<p>216711 rows × 8 columns</p>\n",
       "</div>"
      ],
      "text/plain": [
       "                   0  1          2      3        4  5        6        7\n",
       "0       34200.006789  5          0     13  2228300  1  2229100  2226400\n",
       "1       34200.034290  6         -1  17011  2228700 -1  2229100  2226400\n",
       "2       34200.034290  1    5519048     11  2227500  1  2229100  2227500\n",
       "3       34200.034290  1    2142274     10  2230000 -1  2229100  2227500\n",
       "4       34200.034290  1    2629509    200  2226000  1  2229100  2227500\n",
       "...              ... ..        ...    ...      ... ..      ...      ...\n",
       "216706  57599.977910  4  267961846     39  2193100 -1  2193100  2191900\n",
       "216707  57599.977910  4  267963915     61  2193100 -1  2193100  2191900\n",
       "216708  57599.977975  1  267983787    100  2191900  1  2193100  2191900\n",
       "216709  57599.978001  3  267981940    100  2193100 -1  2193100  2191900\n",
       "216710  57599.978001  1  267983788    100  2193200 -1  2193100  2191900\n",
       "\n",
       "[216711 rows x 8 columns]"
      ]
     },
     "execution_count": 11,
     "metadata": {},
     "output_type": "execute_result"
    }
   ],
   "source": [
    "data"
   ]
  },
  {
   "cell_type": "code",
   "execution_count": 9,
   "metadata": {},
   "outputs": [],
   "source": [
    "data[6] = lob[0] \n",
    "data[7] = lob[2] "
   ]
  },
  {
   "cell_type": "code",
   "execution_count": 29,
   "metadata": {},
   "outputs": [],
   "source": [
    "Sign = []\n",
    "for i,z in zip(INTC_order,INTC_LOB):\n",
    "    data = pd.read_csv(i,header=None)[[0,1,4,5]]\n",
    "    lob = pd.read_csv(z,header=None)[[0,2]]\n",
    "    data[6] = lob[0]\n",
    "    data[7] = lob[2]\n",
    "    use = data[data[1]==1].values\n",
    "    a = PreProcessing(use[:,0],use[:,3],use[:,2],use[:,4],use[:,5] )\n",
    "    Sign.extend(a.copy())\n",
    "    #break    \n",
    "    pass"
   ]
  },
  {
   "cell_type": "code",
   "execution_count": 34,
   "metadata": {},
   "outputs": [
    {
     "name": "stderr",
     "output_type": "stream",
     "text": [
      "Calculating best minimal value for power law fit\n"
     ]
    },
    {
     "data": {
      "text/plain": [
       "4.645407433144941"
      ]
     },
     "execution_count": 34,
     "metadata": {},
     "output_type": "execute_result"
    }
   ],
   "source": [
    "powerlaw.Fit(Sign,discrete=True).alpha"
   ]
  },
  {
   "cell_type": "code",
   "execution_count": 32,
   "metadata": {},
   "outputs": [
    {
     "data": {
      "image/png": "[encoded data removed]",
      "text/plain": [
       "<Figure size 432x288 with 1 Axes>"
      ]
     },
     "metadata": {
      "needs_background": "light"
     },
     "output_type": "display_data"
    }
   ],
   "source": [
    "sns.ecdfplot(Sign,complementary=True)\n",
    "plt.xscale(\"log\")\n",
    "plt.yscale(\"log\")\n"
   ]
  },
  {
   "cell_type": "code",
   "execution_count": 7,
   "metadata": {},
   "outputs": [],
   "source": [
    "Sign = []\n",
    "for i,z in zip(TSLA_order,TSLA_LOB):\n",
    "    data = pd.read_csv(i,header=None)#[[0,1,5]]\n",
    "    lob = pd.read_csv(z,header=None)#[[0,1,5]]\n",
    "    break\n",
    "    execution = data[(data[1] == 4) | (data[1] == 5)][[0,5]].values\n",
    "    a,b = PreProcessing(execution[:,0],execution[:,1])\n",
    "    Sign.extend(b.copy())\n",
    "    \n",
    "    pass\n"
   ]
  },
  {
   "cell_type": "code",
   "execution_count": 5,
   "metadata": {},
   "outputs": [
    {
     "data": {
      "text/html": [
       "<div>\n",
       "<style scoped>\n",
       "    .dataframe tbody tr th:only-of-type {\n",
       "        vertical-align: middle;\n",
       "    }\n",
       "\n",
       "    .dataframe tbody tr th {\n",
       "        vertical-align: top;\n",
       "    }\n",
       "\n",
       "    .dataframe thead th {\n",
       "        text-align: right;\n",
       "    }\n",
       "</style>\n",
       "<table border=\"1\" class=\"dataframe\">\n",
       "  <thead>\n",
       "    <tr style=\"text-align: right;\">\n",
       "      <th></th>\n",
       "      <th>0</th>\n",
       "      <th>1</th>\n",
       "      <th>2</th>\n",
       "      <th>3</th>\n",
       "      <th>4</th>\n",
       "      <th>5</th>\n",
       "    </tr>\n",
       "  </thead>\n",
       "  <tbody>\n",
       "    <tr>\n",
       "      <th>0</th>\n",
       "      <td>34200.006789</td>\n",
       "      <td>5</td>\n",
       "      <td>0</td>\n",
       "      <td>13</td>\n",
       "      <td>2228300</td>\n",
       "      <td>1</td>\n",
       "    </tr>\n",
       "    <tr>\n",
       "      <th>1</th>\n",
       "      <td>34200.034290</td>\n",
       "      <td>6</td>\n",
       "      <td>-1</td>\n",
       "      <td>17011</td>\n",
       "      <td>2228700</td>\n",
       "      <td>-1</td>\n",
       "    </tr>\n",
       "    <tr>\n",
       "      <th>2</th>\n",
       "      <td>34200.034290</td>\n",
       "      <td>1</td>\n",
       "      <td>5519048</td>\n",
       "      <td>11</td>\n",
       "      <td>2227500</td>\n",
       "      <td>1</td>\n",
       "    </tr>\n",
       "    <tr>\n",
       "      <th>3</th>\n",
       "      <td>34200.034290</td>\n",
       "      <td>1</td>\n",
       "      <td>2142274</td>\n",
       "      <td>10</td>\n",
       "      <td>2230000</td>\n",
       "      <td>-1</td>\n",
       "    </tr>\n",
       "    <tr>\n",
       "      <th>4</th>\n",
       "      <td>34200.034290</td>\n",
       "      <td>1</td>\n",
       "      <td>2629509</td>\n",
       "      <td>200</td>\n",
       "      <td>2226000</td>\n",
       "      <td>1</td>\n",
       "    </tr>\n",
       "    <tr>\n",
       "      <th>...</th>\n",
       "      <td>...</td>\n",
       "      <td>...</td>\n",
       "      <td>...</td>\n",
       "      <td>...</td>\n",
       "      <td>...</td>\n",
       "      <td>...</td>\n",
       "    </tr>\n",
       "    <tr>\n",
       "      <th>216706</th>\n",
       "      <td>57599.977910</td>\n",
       "      <td>4</td>\n",
       "      <td>267961846</td>\n",
       "      <td>39</td>\n",
       "      <td>2193100</td>\n",
       "      <td>-1</td>\n",
       "    </tr>\n",
       "    <tr>\n",
       "      <th>216707</th>\n",
       "      <td>57599.977910</td>\n",
       "      <td>4</td>\n",
       "      <td>267963915</td>\n",
       "      <td>61</td>\n",
       "      <td>2193100</td>\n",
       "      <td>-1</td>\n",
       "    </tr>\n",
       "    <tr>\n",
       "      <th>216708</th>\n",
       "      <td>57599.977975</td>\n",
       "      <td>1</td>\n",
       "      <td>267983787</td>\n",
       "      <td>100</td>\n",
       "      <td>2191900</td>\n",
       "      <td>1</td>\n",
       "    </tr>\n",
       "    <tr>\n",
       "      <th>216709</th>\n",
       "      <td>57599.978001</td>\n",
       "      <td>3</td>\n",
       "      <td>267981940</td>\n",
       "      <td>100</td>\n",
       "      <td>2193100</td>\n",
       "      <td>-1</td>\n",
       "    </tr>\n",
       "    <tr>\n",
       "      <th>216710</th>\n",
       "      <td>57599.978001</td>\n",
       "      <td>1</td>\n",
       "      <td>267983788</td>\n",
       "      <td>100</td>\n",
       "      <td>2193200</td>\n",
       "      <td>-1</td>\n",
       "    </tr>\n",
       "  </tbody>\n",
       "</table>\n",
       "<p>216711 rows × 6 columns</p>\n",
       "</div>"
      ],
      "text/plain": [
       "                   0  1          2      3        4  5\n",
       "0       34200.006789  5          0     13  2228300  1\n",
       "1       34200.034290  6         -1  17011  2228700 -1\n",
       "2       34200.034290  1    5519048     11  2227500  1\n",
       "3       34200.034290  1    2142274     10  2230000 -1\n",
       "4       34200.034290  1    2629509    200  2226000  1\n",
       "...              ... ..        ...    ...      ... ..\n",
       "216706  57599.977910  4  267961846     39  2193100 -1\n",
       "216707  57599.977910  4  267963915     61  2193100 -1\n",
       "216708  57599.977975  1  267983787    100  2191900  1\n",
       "216709  57599.978001  3  267981940    100  2193100 -1\n",
       "216710  57599.978001  1  267983788    100  2193200 -1\n",
       "\n",
       "[216711 rows x 6 columns]"
      ]
     },
     "execution_count": 5,
     "metadata": {},
     "output_type": "execute_result"
    }
   ],
   "source": [
    "data"
   ]
  },
  {
   "cell_type": "code",
   "execution_count": 52,
   "metadata": {},
   "outputs": [],
   "source": [
    "def PreProcessing(t,orderid, record):\n",
    "    T = np.zeros(len(t))\n",
    "    dynamics = {i:[] for i in np.unique(orderid)}\n",
    "    for i in range(len(t)):\n",
    "        if record[i]==1:\n",
    "            dynamics[orderid[i]].append(t[i])\n",
    "            pass\n",
    "        elif (record[i]==2 ) or (record[i]==3):\n",
    "            dynamics[orderid[i]].append(t[i])\n",
    "            #break\n",
    "            pass\n",
    "        pass\n",
    "    result = []\n",
    "    for i in dynamics.values():\n",
    "        if len(i)>1:\n",
    "            result.extend(np.diff(i).tolist())\n",
    "            pass\n",
    "        pass\n",
    "    return result#,dynamics"
   ]
  },
  {
   "cell_type": "code",
   "execution_count": 53,
   "metadata": {},
   "outputs": [],
   "source": [
    "a= PreProcessing(data[0].values,data[2].values,data[1].values)"
   ]
  },
  {
   "cell_type": "code",
   "execution_count": 54,
   "metadata": {},
   "outputs": [],
   "source": [
    "DurationTSLA = []\n",
    "for i,z in zip(TSLA_order,TSLA_LOB):\n",
    "    data = pd.read_csv(i,header=None)[[0,1,2]]\n",
    "    a    = PreProcessing(data[0].values,data[2].values,data[1].values)\n",
    "    DurationTSLA.extend(a.copy())\n",
    "    pass\n",
    "DurationINTC = []\n",
    "for i,z in zip(INTC_order,INTC_LOB):\n",
    "    data = pd.read_csv(i,header=None)[[0,1,2]]\n",
    "    a    = PreProcessing(data[0].values,data[2].values,data[1].values)\n",
    "    DurationINTC.extend(a.copy())\n",
    "    pass\n"
   ]
  },
  {
   "cell_type": "code",
   "execution_count": 56,
   "metadata": {},
   "outputs": [
    {
     "data": {
      "image/png": "[encoded data removed]",
      "text/plain": [
       "<Figure size 720x360 with 2 Axes>"
      ]
     },
     "metadata": {
      "needs_background": "light"
     },
     "output_type": "display_data"
    }
   ],
   "source": [
    "fig,(ax1,ax2) = plt.subplots(1,2,figsize=(10,5),tight_layout=True)\n",
    "\n",
    "sns.ecdfplot(DurationTSLA,complementary=True,ax=ax1)\n",
    "\n",
    "sns.ecdfplot(DurationINTC,complementary=True,ax=ax2)\n",
    "\n",
    "ax1.set_yscale(\"log\")\n",
    "ax1.set_xscale(\"log\")\n",
    "ax2.set_yscale(\"log\")\n",
    "ax2.set_xscale(\"log\")\n",
    "ax1.set_title(\"TSLA\",fontsize=15)\n",
    "ax1.set_xlabel(r\"$\\tau$\",fontsize=15)\n",
    "ax1.set_ylabel(r\"$P_{>}(\\tau)$\",fontsize=15)\n",
    "\n",
    "ax2.set_title(\"INTC\",fontsize=15)\n",
    "ax2.set_xlabel(r\"$\\tau$\",fontsize=15)\n",
    "ax2.set_ylabel(r\"$P_{>}(\\tau)$\",fontsize=15)\n",
    "plt.savefig(\"Duration_CO.png\")\n",
    "plt.savefig(\"../../../docs/CodeExample/StylizedFacts/Duration_CO.png\")\n"
   ]
  },
  {
   "cell_type": "code",
   "execution_count": 57,
   "metadata": {},
   "outputs": [
    {
     "data": {
      "image/png": "[encoded data removed]",
      "text/plain": [
       "<Figure size 360x360 with 1 Axes>"
      ]
     },
     "metadata": {
      "needs_background": "light"
     },
     "output_type": "display_data"
    }
   ],
   "source": [
    "fig,(ax1) = plt.subplots(1,1,figsize=(5,5),tight_layout=True)\n",
    "sns.ecdfplot(DurationTSLA,complementary=True,ax=ax1)\n",
    "\n",
    "ax1.set_yscale(\"log\")\n",
    "ax1.set_xscale(\"log\")\n",
    "ax2.set_xlabel(r\"$\\tau$\",fontsize=15)\n",
    "ax2.set_ylabel(r\"$P_{>}(\\tau)$\",fontsize=15)\n",
    "\n",
    "plt.savefig(\"../../../docs/CodeExample/StylizedFacts/Duration_CO.png\")"
   ]
  },
  {
   "cell_type": "code",
   "execution_count": null,
   "metadata": {},
   "outputs": [],
   "source": []
  }
 ],
 "metadata": {
  "kernelspec": {
   "display_name": "Python 3.7.7 ('base')",
   "language": "python",
   "name": "python3"
  },
  "language_info": {
   "codemirror_mode": {
    "name": "ipython",
    "version": 3
   },
   "file_extension": ".py",
   "mimetype": "text/x-python",
   "name": "python",
   "nbconvert_exporter": "python",
   "pygments_lexer": "ipython3",
   "version": "3.7.7"
  },
  "orig_nbformat": 4,
  "vscode": {
   "interpreter": {
    "hash": "86e4b57842a5211036472f9c1c09855ba856c5840f193d7b15b5b7ba596804e2"
   }
  }
 },
 "nbformat": 4,
 "nbformat_minor": 2
}
