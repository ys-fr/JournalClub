{
 "cells": [
  {
   "cell_type": "markdown",
   "metadata": {},
   "source": [
    "# A code example: The distribution of transaction volume"
   ]
  },
  {
   "cell_type": "code",
   "execution_count": 1,
   "metadata": {},
   "outputs": [],
   "source": [
    "import pandas as pd\n",
    "import os\n",
    "import numpy as np\n",
    "import matplotlib.pyplot as plt\n",
    "import seaborn as sns\n"
   ]
  },
  {
   "cell_type": "code",
   "execution_count": 2,
   "metadata": {},
   "outputs": [],
   "source": [
    "def binning(x,y,nbin=10,eq = True):\n",
    "    step = (np.max(x)-np.min(x))/(nbin)\n",
    "    X = []\n",
    "    Y = []\n",
    "    Yerr = []\n",
    "    tmpY = []\n",
    "    start = np.min(x)+step\n",
    "    if eq:\n",
    "        for i in range(len(x)):\n",
    "            while x[i] > start:\n",
    "                X.append(start-step/2)\n",
    "                Y.append(np.mean(tmpY))\n",
    "                #Xerr.append(np.std(tmpX,ddof=1) /np.sqrt(len(tmpX)) )\n",
    "                Yerr.append(np.std(tmpY,ddof=1) /np.sqrt(len(tmpY)) )\n",
    "                start += step\n",
    "                tmpY=[]\n",
    "                pass\n",
    "            tmpY.append(y[i])\n",
    "            pass\n",
    "        if len(tmpY)!=0:\n",
    "            X.append(start-step/2)\n",
    "            Y.append(np.mean(tmpY))\n",
    "            Yerr.append(np.std(tmpY,ddof=1) /np.sqrt(len(tmpY)) )\n",
    "        return X,Y,Yerr\n",
    "        pass\n",
    "    else:\n",
    "        tmpX = []\n",
    "        Xerr = []\n",
    "        for i in range(len(x)):\n",
    "            while x[i] > start:\n",
    "                X.append(np.mean(tmpX))\n",
    "                Y.append(np.mean(tmpY))\n",
    "                Xerr.append(np.std(tmpX,ddof=1) /np.sqrt(len(tmpX)) )\n",
    "                Yerr.append(np.std(tmpY,ddof=1) /np.sqrt(len(tmpY)) )\n",
    "                start += step\n",
    "                tmpX=[]\n",
    "                tmpY=[]\n",
    "                pass\n",
    "            tmpX.append(x[i])\n",
    "            tmpY.append(y[i])\n",
    "            pass\n",
    "        if len(tmpY)!=0:\n",
    "            X.append(np.mean(tmpX))\n",
    "            Y.append(np.mean(tmpY))\n",
    "            Xerr.append(np.std(tmpX,ddof=1) /np.sqrt(len(tmpX)) )\n",
    "            Yerr.append(np.std(tmpY,ddof=1) /np.sqrt(len(tmpY)) )\n",
    "        return X, Y, Yerr"
   ]
  },
  {
   "cell_type": "code",
   "execution_count": 4,
   "metadata": {},
   "outputs": [],
   "source": [
    "def PreProcessing(t,vol):\n",
    "    T = np.zeros(len(t))\n",
    "    Vol = np.zeros(len(t))\n",
    "    prev = t[0]\n",
    "    n = 0\n",
    "    for i in range(len(t)):\n",
    "        n += (prev != t[i])\n",
    "        T[n] = t[i]\n",
    "        Vol[n] += vol[i]\n",
    "        prev = t[i]\n",
    "        pass\n",
    "    return T[:n+1],Vol[:n+1]"
   ]
  },
  {
   "cell_type": "code",
   "execution_count": 6,
   "metadata": {},
   "outputs": [],
   "source": [
    "INTC_LOB   = np.sort([\"../../Data/INTC/\"+i for i in os.listdir(\"../../Data/INTC\") if i[-8]==\"k\"])\n",
    "TSLA_LOB   = np.sort([\"../../Data/TSLA/\"+i for i in os.listdir(\"../../Data/TSLA\") if i[-8]==\"k\"])\n",
    "INTC_order = np.sort([\"../../Data/INTC/\"+i for i in os.listdir(\"../../Data/INTC\") if i[-8]!=\"k\"])\n",
    "TSLA_order = np.sort([\"../../Data/TSLA/\"+i for i in os.listdir(\"../../Data/TSLA\") if i[-8]!=\"k\"])"
   ]
  },
  {
   "cell_type": "code",
   "execution_count": 12,
   "metadata": {},
   "outputs": [],
   "source": [
    "Vol = []\n",
    "for i,z in zip(TSLA_order,TSLA_LOB):\n",
    "    data = pd.read_csv(i,header=None)[[0,1,3]]\n",
    "    execution = data[(data[1] == 4) | (data[1] == 5)][[0,3]].values\n",
    "    a,b = PreProcessing(execution[:,0],execution[:,1])\n",
    "    Vol.extend(b.copy())\n",
    "    pass"
   ]
  },
  {
   "cell_type": "code",
   "execution_count": 9,
   "metadata": {},
   "outputs": [
    {
     "data": {
      "text/html": [
       "<div>\n",
       "<style scoped>\n",
       "    .dataframe tbody tr th:only-of-type {\n",
       "        vertical-align: middle;\n",
       "    }\n",
       "\n",
       "    .dataframe tbody tr th {\n",
       "        vertical-align: top;\n",
       "    }\n",
       "\n",
       "    .dataframe thead th {\n",
       "        text-align: right;\n",
       "    }\n",
       "</style>\n",
       "<table border=\"1\" class=\"dataframe\">\n",
       "  <thead>\n",
       "    <tr style=\"text-align: right;\">\n",
       "      <th></th>\n",
       "      <th>0</th>\n",
       "      <th>1</th>\n",
       "      <th>2</th>\n",
       "      <th>3</th>\n",
       "      <th>4</th>\n",
       "      <th>5</th>\n",
       "    </tr>\n",
       "  </thead>\n",
       "  <tbody>\n",
       "    <tr>\n",
       "      <th>0</th>\n",
       "      <td>34200.006789</td>\n",
       "      <td>5</td>\n",
       "      <td>0</td>\n",
       "      <td>13</td>\n",
       "      <td>2228300</td>\n",
       "      <td>1</td>\n",
       "    </tr>\n",
       "    <tr>\n",
       "      <th>1</th>\n",
       "      <td>34200.034290</td>\n",
       "      <td>6</td>\n",
       "      <td>-1</td>\n",
       "      <td>17011</td>\n",
       "      <td>2228700</td>\n",
       "      <td>-1</td>\n",
       "    </tr>\n",
       "    <tr>\n",
       "      <th>2</th>\n",
       "      <td>34200.034290</td>\n",
       "      <td>1</td>\n",
       "      <td>5519048</td>\n",
       "      <td>11</td>\n",
       "      <td>2227500</td>\n",
       "      <td>1</td>\n",
       "    </tr>\n",
       "    <tr>\n",
       "      <th>3</th>\n",
       "      <td>34200.034290</td>\n",
       "      <td>1</td>\n",
       "      <td>2142274</td>\n",
       "      <td>10</td>\n",
       "      <td>2230000</td>\n",
       "      <td>-1</td>\n",
       "    </tr>\n",
       "    <tr>\n",
       "      <th>4</th>\n",
       "      <td>34200.034290</td>\n",
       "      <td>1</td>\n",
       "      <td>2629509</td>\n",
       "      <td>200</td>\n",
       "      <td>2226000</td>\n",
       "      <td>1</td>\n",
       "    </tr>\n",
       "    <tr>\n",
       "      <th>...</th>\n",
       "      <td>...</td>\n",
       "      <td>...</td>\n",
       "      <td>...</td>\n",
       "      <td>...</td>\n",
       "      <td>...</td>\n",
       "      <td>...</td>\n",
       "    </tr>\n",
       "    <tr>\n",
       "      <th>216706</th>\n",
       "      <td>57599.977910</td>\n",
       "      <td>4</td>\n",
       "      <td>267961846</td>\n",
       "      <td>39</td>\n",
       "      <td>2193100</td>\n",
       "      <td>-1</td>\n",
       "    </tr>\n",
       "    <tr>\n",
       "      <th>216707</th>\n",
       "      <td>57599.977910</td>\n",
       "      <td>4</td>\n",
       "      <td>267963915</td>\n",
       "      <td>61</td>\n",
       "      <td>2193100</td>\n",
       "      <td>-1</td>\n",
       "    </tr>\n",
       "    <tr>\n",
       "      <th>216708</th>\n",
       "      <td>57599.977975</td>\n",
       "      <td>1</td>\n",
       "      <td>267983787</td>\n",
       "      <td>100</td>\n",
       "      <td>2191900</td>\n",
       "      <td>1</td>\n",
       "    </tr>\n",
       "    <tr>\n",
       "      <th>216709</th>\n",
       "      <td>57599.978001</td>\n",
       "      <td>3</td>\n",
       "      <td>267981940</td>\n",
       "      <td>100</td>\n",
       "      <td>2193100</td>\n",
       "      <td>-1</td>\n",
       "    </tr>\n",
       "    <tr>\n",
       "      <th>216710</th>\n",
       "      <td>57599.978001</td>\n",
       "      <td>1</td>\n",
       "      <td>267983788</td>\n",
       "      <td>100</td>\n",
       "      <td>2193200</td>\n",
       "      <td>-1</td>\n",
       "    </tr>\n",
       "  </tbody>\n",
       "</table>\n",
       "<p>216711 rows × 6 columns</p>\n",
       "</div>"
      ],
      "text/plain": [
       "                   0  1          2      3        4  5\n",
       "0       34200.006789  5          0     13  2228300  1\n",
       "1       34200.034290  6         -1  17011  2228700 -1\n",
       "2       34200.034290  1    5519048     11  2227500  1\n",
       "3       34200.034290  1    2142274     10  2230000 -1\n",
       "4       34200.034290  1    2629509    200  2226000  1\n",
       "...              ... ..        ...    ...      ... ..\n",
       "216706  57599.977910  4  267961846     39  2193100 -1\n",
       "216707  57599.977910  4  267963915     61  2193100 -1\n",
       "216708  57599.977975  1  267983787    100  2191900  1\n",
       "216709  57599.978001  3  267981940    100  2193100 -1\n",
       "216710  57599.978001  1  267983788    100  2193200 -1\n",
       "\n",
       "[216711 rows x 6 columns]"
      ]
     },
     "execution_count": 9,
     "metadata": {},
     "output_type": "execute_result"
    }
   ],
   "source": [
    "pd.read_csv(i,header=None)"
   ]
  },
  {
   "cell_type": "code",
   "execution_count": 13,
   "metadata": {},
   "outputs": [],
   "source": [
    "TSLA_Vol = []\n",
    "for i,z in zip(TSLA_order,TSLA_LOB):\n",
    "    data = pd.read_csv(i,header=None)[[0,1,3]]\n",
    "    execution = data[(data[1] == 4) | (data[1] == 5)][[0,3]].values\n",
    "    a,b = PreProcessing(execution[:,0],execution[:,1])\n",
    "    TSLA_Vol.extend(b.copy())\n",
    "    pass\n",
    "\n",
    "INTC_Vol = []\n",
    "for i,z in zip(INTC_order,INTC_LOB):\n",
    "    data = pd.read_csv(i,header=None)[[0,1,3]]\n",
    "    execution = data[(data[1] == 4) | (data[1] == 5)][[0,3]].values\n",
    "    a,b = PreProcessing(execution[:,0],execution[:,1])\n",
    "    INTC_Vol.extend(b.copy())\n",
    "    pass\n"
   ]
  },
  {
   "cell_type": "code",
   "execution_count": 15,
   "metadata": {},
   "outputs": [],
   "source": [
    "import powerlaw"
   ]
  },
  {
   "cell_type": "code",
   "execution_count": 16,
   "metadata": {},
   "outputs": [
    {
     "name": "stderr",
     "output_type": "stream",
     "text": [
      "Calculating best minimal value for power law fit\n",
      "/home/yuki/anaconda3/lib/python3.7/site-packages/powerlaw.py:700: RuntimeWarning: invalid value encountered in true_divide\n",
      "  (Theoretical_CDF * (1 - Theoretical_CDF))\n",
      "/home/yuki/anaconda3/lib/python3.7/site-packages/powerlaw.py:700: RuntimeWarning: divide by zero encountered in true_divide\n",
      "  (Theoretical_CDF * (1 - Theoretical_CDF))\n"
     ]
    },
    {
     "data": {
      "text/plain": [
       "3.2547061509138007"
      ]
     },
     "execution_count": 16,
     "metadata": {},
     "output_type": "execute_result"
    }
   ],
   "source": [
    "powerlaw.Fit(TSLA_Vol,discrete=True).alpha"
   ]
  },
  {
   "cell_type": "code",
   "execution_count": 17,
   "metadata": {},
   "outputs": [
    {
     "name": "stderr",
     "output_type": "stream",
     "text": [
      "Calculating best minimal value for power law fit\n"
     ]
    },
    {
     "data": {
      "text/plain": [
       "3.1605614255106373"
      ]
     },
     "execution_count": 17,
     "metadata": {},
     "output_type": "execute_result"
    }
   ],
   "source": [
    "powerlaw.Fit(INTC_Vol,discrete=True).alpha"
   ]
  },
  {
   "cell_type": "code",
   "execution_count": 25,
   "metadata": {},
   "outputs": [
    {
     "data": {
      "image/png": "[encoded data removed]",
      "text/plain": [
       "<Figure size 720x360 with 2 Axes>"
      ]
     },
     "metadata": {
      "needs_background": "light"
     },
     "output_type": "display_data"
    }
   ],
   "source": [
    "fig,(ax1,ax2) = plt.subplots(1,2,figsize=(10,5),tight_layout=True)\n",
    "\n",
    "sns.ecdfplot(TSLA_Vol,complementary=True,ax=ax1)\n",
    "ax1.plot([100*3,10000*3],[0.1,0.1*10**(-2.25*2)],color=\"red\")\n",
    "sns.ecdfplot(INTC_Vol,complementary=True,ax=ax2)\n",
    "ax2.plot([1000*2,100000*2],[0.1,0.1*10**(-2.16*2)],color=\"red\")\n",
    "#ax1.scatter(t,INTC_acf,zorder=0)\n",
    "#x,y,yerr = binning(np.log10(t),INTC_acf,25)\n",
    "#ax1.errorbar(10**np.array(x),y,yerr = yerr,color=\"red\",marker=\"v\",mec=\"black\",capthick=2,capsize=2,ecolor=\"black\",zorder=1)\n",
    "\n",
    "#ax2.scatter(t,TSLA_acf,zorder=0)\n",
    "#x,y,yerr = binning(np.log10(t),TSLA_acf,25)\n",
    "#ax2.errorbar(10**np.array(x),y,yerr = yerr,color=\"red\",marker=\"v\",mec=\"black\",capthick=2,capsize=2,ecolor=\"black\",zorder=1)\n",
    "\n",
    "ax1.set_yscale(\"log\")\n",
    "ax1.set_xscale(\"log\")\n",
    "ax2.set_yscale(\"log\")\n",
    "ax2.set_xscale(\"log\")\n",
    "ax1.set_title(\"INTC\",fontsize=15)\n",
    "ax1.set_xlabel(r\"$V$\",fontsize=15)\n",
    "ax1.set_ylabel(r\"$P_{>}(V)$\",fontsize=15)\n",
    "\n",
    "ax2.set_title(\"TSLA\",fontsize=15)\n",
    "ax2.set_xlabel(r\"$V$\",fontsize=15)\n",
    "ax2.set_ylabel(r\"$P_{>}(V)$\",fontsize=15)\n",
    "plt.savefig(\"TransactionVolume_MO.png\")\n",
    "plt.savefig(\"../../../docs/CodeExample/StylizedFacts/TransactionVolume_MO.png\")\n"
   ]
  },
  {
   "cell_type": "code",
   "execution_count": 26,
   "metadata": {},
   "outputs": [
    {
     "data": {
      "image/png": "[encoded data removed]",
      "text/plain": [
       "<Figure size 360x360 with 1 Axes>"
      ]
     },
     "metadata": {
      "needs_background": "light"
     },
     "output_type": "display_data"
    }
   ],
   "source": [
    "fig,(ax1) = plt.subplots(1,1,figsize=(5,5),tight_layout=True)\n",
    "\n",
    "sns.ecdfplot(TSLA_Vol,complementary=True,ax=ax1)\n",
    "ax1.plot([100*3,10000*3],[0.1,0.1*10**(-2.25*2)],color=\"red\")\n",
    "ax1.set_yscale(\"log\")\n",
    "ax1.set_xscale(\"log\")\n",
    "#ax1.set_title(\"INTC\",fontsize=15)\n",
    "ax1.set_xlabel(r\"$V$\",fontsize=15)\n",
    "ax1.set_ylabel(r\"$P_{>}(V)$\",fontsize=15)\n",
    "plt.savefig(\"../../../docs/CodeExample/StylizedFacts/TransactionVolume_MO.png\")"
   ]
  },
  {
   "cell_type": "code",
   "execution_count": null,
   "metadata": {},
   "outputs": [],
   "source": []
  }
 ],
 "metadata": {
  "kernelspec": {
   "display_name": "Python 3.7.7 ('base')",
   "language": "python",
   "name": "python3"
  },
  "language_info": {
   "codemirror_mode": {
    "name": "ipython",
    "version": 3
   },
   "file_extension": ".py",
   "mimetype": "text/x-python",
   "name": "python",
   "nbconvert_exporter": "python",
   "pygments_lexer": "ipython3",
   "version": "3.7.7"
  },
  "orig_nbformat": 4,
  "vscode": {
   "interpreter": {
    "hash": "86e4b57842a5211036472f9c1c09855ba856c5840f193d7b15b5b7ba596804e2"
   }
  }
 },
 "nbformat": 4,
 "nbformat_minor": 2
}
